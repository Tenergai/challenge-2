{
 "cells": [
  {
   "cell_type": "code",
   "execution_count": 2,
   "id": "01e6a1e4",
   "metadata": {},
   "outputs": [],
   "source": [
    "import pandas as pd\n",
    "import numpy as np\n",
    "import seaborn as sns\n",
    "import matplotlib.pyplot as plt"
   ]
  },
  {
   "cell_type": "code",
   "execution_count": 3,
   "id": "2c203c90",
   "metadata": {},
   "outputs": [],
   "source": [
    "df = pd.read_csv('datasetFinal.csv')"
   ]
  },
  {
   "cell_type": "code",
   "execution_count": 4,
   "id": "489ebfbd",
   "metadata": {},
   "outputs": [
    {
     "data": {
      "text/plain": [
       "(19401, 12)"
      ]
     },
     "execution_count": 4,
     "metadata": {},
     "output_type": "execute_result"
    }
   ],
   "source": [
    "X = df.loc[:, df.columns != 'generated_power']\n",
    "y = df.loc[:, df.columns == 'generated_power']\n",
    "X.head()\n",
    "y.head()\n",
    "df.shape"
   ]
  },
  {
   "cell_type": "code",
   "execution_count": 5,
   "id": "b9ffc8eb",
   "metadata": {},
   "outputs": [],
   "source": [
    "from sklearn.model_selection import train_test_split\n",
    "X_train, X_test, y_train, y_test = train_test_split(X,y,random_state=7)"
   ]
  },
  {
   "cell_type": "code",
   "execution_count": 6,
   "id": "4ddbe751",
   "metadata": {},
   "outputs": [
    {
     "data": {
      "text/plain": [
       "(14550, 11)"
      ]
     },
     "execution_count": 6,
     "metadata": {},
     "output_type": "execute_result"
    }
   ],
   "source": [
    "X_train.shape"
   ]
  },
  {
   "cell_type": "code",
   "execution_count": 7,
   "id": "154e16c7",
   "metadata": {},
   "outputs": [
    {
     "data": {
      "text/plain": [
       "(4851, 11)"
      ]
     },
     "execution_count": 7,
     "metadata": {},
     "output_type": "execute_result"
    }
   ],
   "source": [
    "X_test.shape"
   ]
  },
  {
   "cell_type": "code",
   "execution_count": 8,
   "id": "275d0a62",
   "metadata": {},
   "outputs": [],
   "source": [
    "from sklearn.tree import DecisionTreeRegressor"
   ]
  },
  {
   "cell_type": "code",
   "execution_count": 9,
   "id": "6b2f62f8",
   "metadata": {},
   "outputs": [],
   "source": [
    "reg = DecisionTreeRegressor(criterion =\"friedman_mse\", max_depth=10, \n",
    "                            min_samples_split=10, random_state=5)"
   ]
  },
  {
   "cell_type": "code",
   "execution_count": 10,
   "id": "391c1f2c",
   "metadata": {},
   "outputs": [
    {
     "data": {
      "text/html": [
       "<style>#sk-container-id-1 {color: black;background-color: white;}#sk-container-id-1 pre{padding: 0;}#sk-container-id-1 div.sk-toggleable {background-color: white;}#sk-container-id-1 label.sk-toggleable__label {cursor: pointer;display: block;width: 100%;margin-bottom: 0;padding: 0.3em;box-sizing: border-box;text-align: center;}#sk-container-id-1 label.sk-toggleable__label-arrow:before {content: \"▸\";float: left;margin-right: 0.25em;color: #696969;}#sk-container-id-1 label.sk-toggleable__label-arrow:hover:before {color: black;}#sk-container-id-1 div.sk-estimator:hover label.sk-toggleable__label-arrow:before {color: black;}#sk-container-id-1 div.sk-toggleable__content {max-height: 0;max-width: 0;overflow: hidden;text-align: left;background-color: #f0f8ff;}#sk-container-id-1 div.sk-toggleable__content pre {margin: 0.2em;color: black;border-radius: 0.25em;background-color: #f0f8ff;}#sk-container-id-1 input.sk-toggleable__control:checked~div.sk-toggleable__content {max-height: 200px;max-width: 100%;overflow: auto;}#sk-container-id-1 input.sk-toggleable__control:checked~label.sk-toggleable__label-arrow:before {content: \"▾\";}#sk-container-id-1 div.sk-estimator input.sk-toggleable__control:checked~label.sk-toggleable__label {background-color: #d4ebff;}#sk-container-id-1 div.sk-label input.sk-toggleable__control:checked~label.sk-toggleable__label {background-color: #d4ebff;}#sk-container-id-1 input.sk-hidden--visually {border: 0;clip: rect(1px 1px 1px 1px);clip: rect(1px, 1px, 1px, 1px);height: 1px;margin: -1px;overflow: hidden;padding: 0;position: absolute;width: 1px;}#sk-container-id-1 div.sk-estimator {font-family: monospace;background-color: #f0f8ff;border: 1px dotted black;border-radius: 0.25em;box-sizing: border-box;margin-bottom: 0.5em;}#sk-container-id-1 div.sk-estimator:hover {background-color: #d4ebff;}#sk-container-id-1 div.sk-parallel-item::after {content: \"\";width: 100%;border-bottom: 1px solid gray;flex-grow: 1;}#sk-container-id-1 div.sk-label:hover label.sk-toggleable__label {background-color: #d4ebff;}#sk-container-id-1 div.sk-serial::before {content: \"\";position: absolute;border-left: 1px solid gray;box-sizing: border-box;top: 0;bottom: 0;left: 50%;z-index: 0;}#sk-container-id-1 div.sk-serial {display: flex;flex-direction: column;align-items: center;background-color: white;padding-right: 0.2em;padding-left: 0.2em;position: relative;}#sk-container-id-1 div.sk-item {position: relative;z-index: 1;}#sk-container-id-1 div.sk-parallel {display: flex;align-items: stretch;justify-content: center;background-color: white;position: relative;}#sk-container-id-1 div.sk-item::before, #sk-container-id-1 div.sk-parallel-item::before {content: \"\";position: absolute;border-left: 1px solid gray;box-sizing: border-box;top: 0;bottom: 0;left: 50%;z-index: -1;}#sk-container-id-1 div.sk-parallel-item {display: flex;flex-direction: column;z-index: 1;position: relative;background-color: white;}#sk-container-id-1 div.sk-parallel-item:first-child::after {align-self: flex-end;width: 50%;}#sk-container-id-1 div.sk-parallel-item:last-child::after {align-self: flex-start;width: 50%;}#sk-container-id-1 div.sk-parallel-item:only-child::after {width: 0;}#sk-container-id-1 div.sk-dashed-wrapped {border: 1px dashed gray;margin: 0 0.4em 0.5em 0.4em;box-sizing: border-box;padding-bottom: 0.4em;background-color: white;}#sk-container-id-1 div.sk-label label {font-family: monospace;font-weight: bold;display: inline-block;line-height: 1.2em;}#sk-container-id-1 div.sk-label-container {text-align: center;}#sk-container-id-1 div.sk-container {/* jupyter's `normalize.less` sets `[hidden] { display: none; }` but bootstrap.min.css set `[hidden] { display: none !important; }` so we also need the `!important` here to be able to override the default hidden behavior on the sphinx rendered scikit-learn.org. See: https://github.com/scikit-learn/scikit-learn/issues/21755 */display: inline-block !important;position: relative;}#sk-container-id-1 div.sk-text-repr-fallback {display: none;}</style><div id=\"sk-container-id-1\" class=\"sk-top-container\"><div class=\"sk-text-repr-fallback\"><pre>DecisionTreeRegressor(criterion=&#x27;friedman_mse&#x27;, max_depth=10,\n",
       "                      min_samples_split=10, random_state=5)</pre><b>In a Jupyter environment, please rerun this cell to show the HTML representation or trust the notebook. <br />On GitHub, the HTML representation is unable to render, please try loading this page with nbviewer.org.</b></div><div class=\"sk-container\" hidden><div class=\"sk-item\"><div class=\"sk-estimator sk-toggleable\"><input class=\"sk-toggleable__control sk-hidden--visually\" id=\"sk-estimator-id-1\" type=\"checkbox\" checked><label for=\"sk-estimator-id-1\" class=\"sk-toggleable__label sk-toggleable__label-arrow\">DecisionTreeRegressor</label><div class=\"sk-toggleable__content\"><pre>DecisionTreeRegressor(criterion=&#x27;friedman_mse&#x27;, max_depth=10,\n",
       "                      min_samples_split=10, random_state=5)</pre></div></div></div></div></div>"
      ],
      "text/plain": [
       "DecisionTreeRegressor(criterion='friedman_mse', max_depth=10,\n",
       "                      min_samples_split=10, random_state=5)"
      ]
     },
     "execution_count": 10,
     "metadata": {},
     "output_type": "execute_result"
    }
   ],
   "source": [
    "reg.fit(X_train,y_train)"
   ]
  },
  {
   "cell_type": "code",
   "execution_count": 11,
   "id": "4eb94f5d",
   "metadata": {},
   "outputs": [],
   "source": [
    "y_pred = reg.predict(X_test)"
   ]
  },
  {
   "cell_type": "code",
   "execution_count": 12,
   "id": "0c71c84c",
   "metadata": {},
   "outputs": [
    {
     "data": {
      "text/plain": [
       "array([   0.  ,    0.  , 2231.25, ..., 1238.5 ,    0.  ,    0.  ])"
      ]
     },
     "execution_count": 12,
     "metadata": {},
     "output_type": "execute_result"
    }
   ],
   "source": [
    "y_pred"
   ]
  },
  {
   "cell_type": "code",
   "execution_count": 21,
   "id": "e1b91e92",
   "metadata": {},
   "outputs": [
    {
     "data": {
      "text/plain": [
       "0.905940821203639"
      ]
     },
     "execution_count": 21,
     "metadata": {},
     "output_type": "execute_result"
    }
   ],
   "source": [
    "from sklearn.metrics import mean_absolute_error\n",
    "mean_absolute_error(y_test,y_pred)"
   ]
  },
  {
   "cell_type": "code",
   "execution_count": null,
   "id": "822cbdde",
   "metadata": {},
   "outputs": [],
   "source": [
    "reg.score(X_test,y_test)"
   ]
  },
  {
   "cell_type": "code",
   "execution_count": 20,
   "id": "fd947874",
   "metadata": {},
   "outputs": [
    {
     "data": {
      "text/plain": [
       "427.5453423564639"
      ]
     },
     "execution_count": 20,
     "metadata": {},
     "output_type": "execute_result"
    }
   ],
   "source": [
    "from sklearn.metrics import mean_squared_error\n",
    "np.sqrt(mean_squared_error(y_test,y_pred))"
   ]
  },
  {
   "cell_type": "code",
   "execution_count": 15,
   "id": "f8c73c27",
   "metadata": {},
   "outputs": [
    {
     "data": {
      "text/plain": [
       "array([0.91253722, 0.91967064, 0.8821573 , 0.89869619, 0.91571112,\n",
       "       0.907913  , 0.9079597 , 0.88095715, 0.90821368, 0.89718617])"
      ]
     },
     "execution_count": 15,
     "metadata": {},
     "output_type": "execute_result"
    }
   ],
   "source": [
    "from sklearn.model_selection import cross_val_score\n",
    "cross_val_score(reg,X_train,y_train, cv=10)"
   ]
  },
  {
   "cell_type": "code",
   "execution_count": 16,
   "id": "d4e1f552",
   "metadata": {
    "scrolled": false
   },
   "outputs": [
    {
     "name": "stderr",
     "output_type": "stream",
     "text": [
      "/home/rafaelsilva/anaconda3/envs/meia/lib/python3.10/site-packages/sklearn/base.py:409: UserWarning: X does not have valid feature names, but DecisionTreeRegressor was fitted with feature names\n",
      "  warnings.warn(\n"
     ]
    },
    {
     "data": {
      "text/plain": [
       "array([250.47058824])"
      ]
     },
     "execution_count": 16,
     "metadata": {},
     "output_type": "execute_result"
    }
   ],
   "source": [
    "A_test = [14,12,12,1014,200,4,43,96,4,12,33]\n",
    "#X_test = [14,12,12,1014,200, 4,43, 96, 4,12, 33]\n",
    "b = df.iloc[1001]\n",
    "b= b.drop(columns='generated_power')\n",
    "#b = b.reshape(-1, 1)\n",
    "#dataf= pd.DataFrame({\"X_test\":\"X_test\"})\n",
    "#dataf\n",
    "pred = reg.predict([A_test])\n",
    "pred\n"
   ]
  },
  {
   "cell_type": "code",
   "execution_count": 17,
   "id": "6bcb4581",
   "metadata": {},
   "outputs": [
    {
     "name": "stdout",
     "output_type": "stream",
     "text": [
      "Real: 384   mmh... I predict: [346.20155039]\n",
      "Real: 388   mmh... I predict: [346.20155039]\n",
      "Real: 537   mmh... I predict: [573.78651685]\n",
      "Real: 514   mmh... I predict: [456.72131148]\n",
      "Real: 379   mmh... I predict: [346.20155039]\n",
      "Real: 281   mmh... I predict: [323.89208633]\n",
      "Real: 0   mmh... I predict: [0.]\n",
      "Real: 0   mmh... I predict: [0.]\n",
      "Real: 0   mmh... I predict: [0.]\n",
      "Real: 0   mmh... I predict: [0.]\n",
      "Real: 0   mmh... I predict: [0.]\n",
      "Real: 0   mmh... I predict: [0.]\n",
      "Real: 0   mmh... I predict: [0.]\n",
      "Real: 0   mmh... I predict: [0.]\n",
      "Real: 0   mmh... I predict: [0.]\n",
      "Real: 0   mmh... I predict: [0.]\n",
      "Real: 242   mmh... I predict: [163.92]\n",
      "Real: 239   mmh... I predict: [777.4]\n",
      "Real: 883   mmh... I predict: [1856.8]\n",
      "Real: 2019   mmh... I predict: [1661.36190476]\n",
      "Real: 2509   mmh... I predict: [1885.04395604]\n",
      "Real: 1492   mmh... I predict: [1036.95]\n",
      "Real: 1322   mmh... I predict: [1376.45238095]\n",
      "Real: 401   mmh... I predict: [456.72131148]\n",
      "Real: 404   mmh... I predict: [456.72131148]\n",
      "Real: 0   mmh... I predict: [0.]\n",
      "Real: 0   mmh... I predict: [0.]\n",
      "Real: 0   mmh... I predict: [0.]\n",
      "Real: 0   mmh... I predict: [0.]\n",
      "Real: 0   mmh... I predict: [0.]\n",
      "Real: 0   mmh... I predict: [0.]\n",
      "Real: 0   mmh... I predict: [0.]\n",
      "Real: 0   mmh... I predict: [0.]\n",
      "Real: 0   mmh... I predict: [0.]\n",
      "Real: 0   mmh... I predict: [0.]\n",
      "Real: 149   mmh... I predict: [124.11827957]\n",
      "Real: 149   mmh... I predict: [124.11827957]\n",
      "Real: 119   mmh... I predict: [95.25714286]\n",
      "Real: 164   mmh... I predict: [158.27472527]\n",
      "Real: 91   mmh... I predict: [75.42592593]\n",
      "Real: 76   mmh... I predict: [65.98484848]\n",
      "Real: 57   mmh... I predict: [53.34615385]\n",
      "Real: 0   mmh... I predict: [0.]\n",
      "Real: 0   mmh... I predict: [0.]\n",
      "Real: 0   mmh... I predict: [0.]\n",
      "Real: 0   mmh... I predict: [0.]\n",
      "Real: 0   mmh... I predict: [0.]\n",
      "Real: 0   mmh... I predict: [0.]\n",
      "Real: 0   mmh... I predict: [0.]\n",
      "Real: 0   mmh... I predict: [0.]\n",
      "Real: 0   mmh... I predict: [0.]\n",
      "Real: 0   mmh... I predict: [0.]\n",
      "Real: 48   mmh... I predict: [174.28571429]\n",
      "Real: 115   mmh... I predict: [95.25714286]\n",
      "Real: 127   mmh... I predict: [95.25714286]\n",
      "Real: 451   mmh... I predict: [346.20155039]\n",
      "Real: 185   mmh... I predict: [271.]\n",
      "Real: 263   mmh... I predict: [323.89208633]\n",
      "Real: 197   mmh... I predict: [163.92]\n",
      "Real: 178   mmh... I predict: [163.92]\n",
      "Real: 0   mmh... I predict: [0.]\n",
      "Real: 0   mmh... I predict: [0.]\n",
      "Real: 0   mmh... I predict: [0.]\n",
      "Real: 0   mmh... I predict: [0.]\n",
      "Real: 0   mmh... I predict: [0.]\n",
      "Real: 0   mmh... I predict: [0.]\n",
      "Real: 0   mmh... I predict: [0.]\n",
      "Real: 0   mmh... I predict: [0.]\n",
      "Real: 0   mmh... I predict: [0.]\n",
      "Real: 246   mmh... I predict: [229.71428571]\n",
      "Real: 96   mmh... I predict: [75.42592593]\n",
      "Real: 136   mmh... I predict: [124.11827957]\n",
      "Real: 609   mmh... I predict: [520.33333333]\n",
      "Real: 893   mmh... I predict: [456.72131148]\n",
      "Real: 899   mmh... I predict: [822.14285714]\n",
      "Real: 606   mmh... I predict: [520.33333333]\n",
      "Real: 163   mmh... I predict: [158.27472527]\n",
      "Real: 0   mmh... I predict: [0.]\n",
      "Real: 0   mmh... I predict: [0.]\n",
      "Real: 0   mmh... I predict: [0.]\n",
      "Real: 0   mmh... I predict: [0.]\n",
      "Real: 0   mmh... I predict: [0.]\n",
      "Real: 0   mmh... I predict: [0.]\n",
      "Real: 0   mmh... I predict: [0.]\n",
      "Real: 0   mmh... I predict: [0.]\n",
      "Real: 0   mmh... I predict: [0.]\n",
      "Real: 0   mmh... I predict: [0.]\n",
      "Real: 82   mmh... I predict: [75.42592593]\n",
      "Real: 354   mmh... I predict: [346.20155039]\n",
      "Real: 217   mmh... I predict: [158.27472527]\n"
     ]
    },
    {
     "name": "stderr",
     "output_type": "stream",
     "text": [
      "/home/rafaelsilva/anaconda3/envs/meia/lib/python3.10/site-packages/sklearn/base.py:409: UserWarning: X does not have valid feature names, but DecisionTreeRegressor was fitted with feature names\n",
      "  warnings.warn(\n",
      "/home/rafaelsilva/anaconda3/envs/meia/lib/python3.10/site-packages/sklearn/base.py:409: UserWarning: X does not have valid feature names, but DecisionTreeRegressor was fitted with feature names\n",
      "  warnings.warn(\n",
      "/home/rafaelsilva/anaconda3/envs/meia/lib/python3.10/site-packages/sklearn/base.py:409: UserWarning: X does not have valid feature names, but DecisionTreeRegressor was fitted with feature names\n",
      "  warnings.warn(\n",
      "/home/rafaelsilva/anaconda3/envs/meia/lib/python3.10/site-packages/sklearn/base.py:409: UserWarning: X does not have valid feature names, but DecisionTreeRegressor was fitted with feature names\n",
      "  warnings.warn(\n",
      "/home/rafaelsilva/anaconda3/envs/meia/lib/python3.10/site-packages/sklearn/base.py:409: UserWarning: X does not have valid feature names, but DecisionTreeRegressor was fitted with feature names\n",
      "  warnings.warn(\n",
      "/home/rafaelsilva/anaconda3/envs/meia/lib/python3.10/site-packages/sklearn/base.py:409: UserWarning: X does not have valid feature names, but DecisionTreeRegressor was fitted with feature names\n",
      "  warnings.warn(\n",
      "/home/rafaelsilva/anaconda3/envs/meia/lib/python3.10/site-packages/sklearn/base.py:409: UserWarning: X does not have valid feature names, but DecisionTreeRegressor was fitted with feature names\n",
      "  warnings.warn(\n",
      "/home/rafaelsilva/anaconda3/envs/meia/lib/python3.10/site-packages/sklearn/base.py:409: UserWarning: X does not have valid feature names, but DecisionTreeRegressor was fitted with feature names\n",
      "  warnings.warn(\n",
      "/home/rafaelsilva/anaconda3/envs/meia/lib/python3.10/site-packages/sklearn/base.py:409: UserWarning: X does not have valid feature names, but DecisionTreeRegressor was fitted with feature names\n",
      "  warnings.warn(\n",
      "/home/rafaelsilva/anaconda3/envs/meia/lib/python3.10/site-packages/sklearn/base.py:409: UserWarning: X does not have valid feature names, but DecisionTreeRegressor was fitted with feature names\n",
      "  warnings.warn(\n",
      "/home/rafaelsilva/anaconda3/envs/meia/lib/python3.10/site-packages/sklearn/base.py:409: UserWarning: X does not have valid feature names, but DecisionTreeRegressor was fitted with feature names\n",
      "  warnings.warn(\n",
      "/home/rafaelsilva/anaconda3/envs/meia/lib/python3.10/site-packages/sklearn/base.py:409: UserWarning: X does not have valid feature names, but DecisionTreeRegressor was fitted with feature names\n",
      "  warnings.warn(\n",
      "/home/rafaelsilva/anaconda3/envs/meia/lib/python3.10/site-packages/sklearn/base.py:409: UserWarning: X does not have valid feature names, but DecisionTreeRegressor was fitted with feature names\n",
      "  warnings.warn(\n",
      "/home/rafaelsilva/anaconda3/envs/meia/lib/python3.10/site-packages/sklearn/base.py:409: UserWarning: X does not have valid feature names, but DecisionTreeRegressor was fitted with feature names\n",
      "  warnings.warn(\n",
      "/home/rafaelsilva/anaconda3/envs/meia/lib/python3.10/site-packages/sklearn/base.py:409: UserWarning: X does not have valid feature names, but DecisionTreeRegressor was fitted with feature names\n",
      "  warnings.warn(\n",
      "/home/rafaelsilva/anaconda3/envs/meia/lib/python3.10/site-packages/sklearn/base.py:409: UserWarning: X does not have valid feature names, but DecisionTreeRegressor was fitted with feature names\n",
      "  warnings.warn(\n",
      "/home/rafaelsilva/anaconda3/envs/meia/lib/python3.10/site-packages/sklearn/base.py:409: UserWarning: X does not have valid feature names, but DecisionTreeRegressor was fitted with feature names\n",
      "  warnings.warn(\n",
      "/home/rafaelsilva/anaconda3/envs/meia/lib/python3.10/site-packages/sklearn/base.py:409: UserWarning: X does not have valid feature names, but DecisionTreeRegressor was fitted with feature names\n",
      "  warnings.warn(\n",
      "/home/rafaelsilva/anaconda3/envs/meia/lib/python3.10/site-packages/sklearn/base.py:409: UserWarning: X does not have valid feature names, but DecisionTreeRegressor was fitted with feature names\n",
      "  warnings.warn(\n",
      "/home/rafaelsilva/anaconda3/envs/meia/lib/python3.10/site-packages/sklearn/base.py:409: UserWarning: X does not have valid feature names, but DecisionTreeRegressor was fitted with feature names\n",
      "  warnings.warn(\n",
      "/home/rafaelsilva/anaconda3/envs/meia/lib/python3.10/site-packages/sklearn/base.py:409: UserWarning: X does not have valid feature names, but DecisionTreeRegressor was fitted with feature names\n",
      "  warnings.warn(\n",
      "/home/rafaelsilva/anaconda3/envs/meia/lib/python3.10/site-packages/sklearn/base.py:409: UserWarning: X does not have valid feature names, but DecisionTreeRegressor was fitted with feature names\n",
      "  warnings.warn(\n",
      "/home/rafaelsilva/anaconda3/envs/meia/lib/python3.10/site-packages/sklearn/base.py:409: UserWarning: X does not have valid feature names, but DecisionTreeRegressor was fitted with feature names\n",
      "  warnings.warn(\n",
      "/home/rafaelsilva/anaconda3/envs/meia/lib/python3.10/site-packages/sklearn/base.py:409: UserWarning: X does not have valid feature names, but DecisionTreeRegressor was fitted with feature names\n",
      "  warnings.warn(\n",
      "/home/rafaelsilva/anaconda3/envs/meia/lib/python3.10/site-packages/sklearn/base.py:409: UserWarning: X does not have valid feature names, but DecisionTreeRegressor was fitted with feature names\n",
      "  warnings.warn(\n",
      "/home/rafaelsilva/anaconda3/envs/meia/lib/python3.10/site-packages/sklearn/base.py:409: UserWarning: X does not have valid feature names, but DecisionTreeRegressor was fitted with feature names\n",
      "  warnings.warn(\n",
      "/home/rafaelsilva/anaconda3/envs/meia/lib/python3.10/site-packages/sklearn/base.py:409: UserWarning: X does not have valid feature names, but DecisionTreeRegressor was fitted with feature names\n",
      "  warnings.warn(\n",
      "/home/rafaelsilva/anaconda3/envs/meia/lib/python3.10/site-packages/sklearn/base.py:409: UserWarning: X does not have valid feature names, but DecisionTreeRegressor was fitted with feature names\n",
      "  warnings.warn(\n",
      "/home/rafaelsilva/anaconda3/envs/meia/lib/python3.10/site-packages/sklearn/base.py:409: UserWarning: X does not have valid feature names, but DecisionTreeRegressor was fitted with feature names\n",
      "  warnings.warn(\n",
      "/home/rafaelsilva/anaconda3/envs/meia/lib/python3.10/site-packages/sklearn/base.py:409: UserWarning: X does not have valid feature names, but DecisionTreeRegressor was fitted with feature names\n",
      "  warnings.warn(\n",
      "/home/rafaelsilva/anaconda3/envs/meia/lib/python3.10/site-packages/sklearn/base.py:409: UserWarning: X does not have valid feature names, but DecisionTreeRegressor was fitted with feature names\n",
      "  warnings.warn(\n",
      "/home/rafaelsilva/anaconda3/envs/meia/lib/python3.10/site-packages/sklearn/base.py:409: UserWarning: X does not have valid feature names, but DecisionTreeRegressor was fitted with feature names\n",
      "  warnings.warn(\n",
      "/home/rafaelsilva/anaconda3/envs/meia/lib/python3.10/site-packages/sklearn/base.py:409: UserWarning: X does not have valid feature names, but DecisionTreeRegressor was fitted with feature names\n",
      "  warnings.warn(\n",
      "/home/rafaelsilva/anaconda3/envs/meia/lib/python3.10/site-packages/sklearn/base.py:409: UserWarning: X does not have valid feature names, but DecisionTreeRegressor was fitted with feature names\n",
      "  warnings.warn(\n",
      "/home/rafaelsilva/anaconda3/envs/meia/lib/python3.10/site-packages/sklearn/base.py:409: UserWarning: X does not have valid feature names, but DecisionTreeRegressor was fitted with feature names\n",
      "  warnings.warn(\n",
      "/home/rafaelsilva/anaconda3/envs/meia/lib/python3.10/site-packages/sklearn/base.py:409: UserWarning: X does not have valid feature names, but DecisionTreeRegressor was fitted with feature names\n",
      "  warnings.warn(\n",
      "/home/rafaelsilva/anaconda3/envs/meia/lib/python3.10/site-packages/sklearn/base.py:409: UserWarning: X does not have valid feature names, but DecisionTreeRegressor was fitted with feature names\n",
      "  warnings.warn(\n",
      "/home/rafaelsilva/anaconda3/envs/meia/lib/python3.10/site-packages/sklearn/base.py:409: UserWarning: X does not have valid feature names, but DecisionTreeRegressor was fitted with feature names\n",
      "  warnings.warn(\n",
      "/home/rafaelsilva/anaconda3/envs/meia/lib/python3.10/site-packages/sklearn/base.py:409: UserWarning: X does not have valid feature names, but DecisionTreeRegressor was fitted with feature names\n",
      "  warnings.warn(\n",
      "/home/rafaelsilva/anaconda3/envs/meia/lib/python3.10/site-packages/sklearn/base.py:409: UserWarning: X does not have valid feature names, but DecisionTreeRegressor was fitted with feature names\n",
      "  warnings.warn(\n",
      "/home/rafaelsilva/anaconda3/envs/meia/lib/python3.10/site-packages/sklearn/base.py:409: UserWarning: X does not have valid feature names, but DecisionTreeRegressor was fitted with feature names\n",
      "  warnings.warn(\n",
      "/home/rafaelsilva/anaconda3/envs/meia/lib/python3.10/site-packages/sklearn/base.py:409: UserWarning: X does not have valid feature names, but DecisionTreeRegressor was fitted with feature names\n",
      "  warnings.warn(\n",
      "/home/rafaelsilva/anaconda3/envs/meia/lib/python3.10/site-packages/sklearn/base.py:409: UserWarning: X does not have valid feature names, but DecisionTreeRegressor was fitted with feature names\n",
      "  warnings.warn(\n",
      "/home/rafaelsilva/anaconda3/envs/meia/lib/python3.10/site-packages/sklearn/base.py:409: UserWarning: X does not have valid feature names, but DecisionTreeRegressor was fitted with feature names\n",
      "  warnings.warn(\n",
      "/home/rafaelsilva/anaconda3/envs/meia/lib/python3.10/site-packages/sklearn/base.py:409: UserWarning: X does not have valid feature names, but DecisionTreeRegressor was fitted with feature names\n",
      "  warnings.warn(\n",
      "/home/rafaelsilva/anaconda3/envs/meia/lib/python3.10/site-packages/sklearn/base.py:409: UserWarning: X does not have valid feature names, but DecisionTreeRegressor was fitted with feature names\n",
      "  warnings.warn(\n",
      "/home/rafaelsilva/anaconda3/envs/meia/lib/python3.10/site-packages/sklearn/base.py:409: UserWarning: X does not have valid feature names, but DecisionTreeRegressor was fitted with feature names\n",
      "  warnings.warn(\n",
      "/home/rafaelsilva/anaconda3/envs/meia/lib/python3.10/site-packages/sklearn/base.py:409: UserWarning: X does not have valid feature names, but DecisionTreeRegressor was fitted with feature names\n",
      "  warnings.warn(\n",
      "/home/rafaelsilva/anaconda3/envs/meia/lib/python3.10/site-packages/sklearn/base.py:409: UserWarning: X does not have valid feature names, but DecisionTreeRegressor was fitted with feature names\n",
      "  warnings.warn(\n",
      "/home/rafaelsilva/anaconda3/envs/meia/lib/python3.10/site-packages/sklearn/base.py:409: UserWarning: X does not have valid feature names, but DecisionTreeRegressor was fitted with feature names\n",
      "  warnings.warn(\n",
      "/home/rafaelsilva/anaconda3/envs/meia/lib/python3.10/site-packages/sklearn/base.py:409: UserWarning: X does not have valid feature names, but DecisionTreeRegressor was fitted with feature names\n",
      "  warnings.warn(\n",
      "/home/rafaelsilva/anaconda3/envs/meia/lib/python3.10/site-packages/sklearn/base.py:409: UserWarning: X does not have valid feature names, but DecisionTreeRegressor was fitted with feature names\n",
      "  warnings.warn(\n",
      "/home/rafaelsilva/anaconda3/envs/meia/lib/python3.10/site-packages/sklearn/base.py:409: UserWarning: X does not have valid feature names, but DecisionTreeRegressor was fitted with feature names\n",
      "  warnings.warn(\n",
      "/home/rafaelsilva/anaconda3/envs/meia/lib/python3.10/site-packages/sklearn/base.py:409: UserWarning: X does not have valid feature names, but DecisionTreeRegressor was fitted with feature names\n",
      "  warnings.warn(\n",
      "/home/rafaelsilva/anaconda3/envs/meia/lib/python3.10/site-packages/sklearn/base.py:409: UserWarning: X does not have valid feature names, but DecisionTreeRegressor was fitted with feature names\n",
      "  warnings.warn(\n",
      "/home/rafaelsilva/anaconda3/envs/meia/lib/python3.10/site-packages/sklearn/base.py:409: UserWarning: X does not have valid feature names, but DecisionTreeRegressor was fitted with feature names\n",
      "  warnings.warn(\n",
      "/home/rafaelsilva/anaconda3/envs/meia/lib/python3.10/site-packages/sklearn/base.py:409: UserWarning: X does not have valid feature names, but DecisionTreeRegressor was fitted with feature names\n",
      "  warnings.warn(\n",
      "/home/rafaelsilva/anaconda3/envs/meia/lib/python3.10/site-packages/sklearn/base.py:409: UserWarning: X does not have valid feature names, but DecisionTreeRegressor was fitted with feature names\n",
      "  warnings.warn(\n",
      "/home/rafaelsilva/anaconda3/envs/meia/lib/python3.10/site-packages/sklearn/base.py:409: UserWarning: X does not have valid feature names, but DecisionTreeRegressor was fitted with feature names\n",
      "  warnings.warn(\n",
      "/home/rafaelsilva/anaconda3/envs/meia/lib/python3.10/site-packages/sklearn/base.py:409: UserWarning: X does not have valid feature names, but DecisionTreeRegressor was fitted with feature names\n",
      "  warnings.warn(\n",
      "/home/rafaelsilva/anaconda3/envs/meia/lib/python3.10/site-packages/sklearn/base.py:409: UserWarning: X does not have valid feature names, but DecisionTreeRegressor was fitted with feature names\n",
      "  warnings.warn(\n",
      "/home/rafaelsilva/anaconda3/envs/meia/lib/python3.10/site-packages/sklearn/base.py:409: UserWarning: X does not have valid feature names, but DecisionTreeRegressor was fitted with feature names\n",
      "  warnings.warn(\n",
      "/home/rafaelsilva/anaconda3/envs/meia/lib/python3.10/site-packages/sklearn/base.py:409: UserWarning: X does not have valid feature names, but DecisionTreeRegressor was fitted with feature names\n",
      "  warnings.warn(\n",
      "/home/rafaelsilva/anaconda3/envs/meia/lib/python3.10/site-packages/sklearn/base.py:409: UserWarning: X does not have valid feature names, but DecisionTreeRegressor was fitted with feature names\n",
      "  warnings.warn(\n",
      "/home/rafaelsilva/anaconda3/envs/meia/lib/python3.10/site-packages/sklearn/base.py:409: UserWarning: X does not have valid feature names, but DecisionTreeRegressor was fitted with feature names\n",
      "  warnings.warn(\n",
      "/home/rafaelsilva/anaconda3/envs/meia/lib/python3.10/site-packages/sklearn/base.py:409: UserWarning: X does not have valid feature names, but DecisionTreeRegressor was fitted with feature names\n",
      "  warnings.warn(\n",
      "/home/rafaelsilva/anaconda3/envs/meia/lib/python3.10/site-packages/sklearn/base.py:409: UserWarning: X does not have valid feature names, but DecisionTreeRegressor was fitted with feature names\n",
      "  warnings.warn(\n",
      "/home/rafaelsilva/anaconda3/envs/meia/lib/python3.10/site-packages/sklearn/base.py:409: UserWarning: X does not have valid feature names, but DecisionTreeRegressor was fitted with feature names\n",
      "  warnings.warn(\n",
      "/home/rafaelsilva/anaconda3/envs/meia/lib/python3.10/site-packages/sklearn/base.py:409: UserWarning: X does not have valid feature names, but DecisionTreeRegressor was fitted with feature names\n",
      "  warnings.warn(\n",
      "/home/rafaelsilva/anaconda3/envs/meia/lib/python3.10/site-packages/sklearn/base.py:409: UserWarning: X does not have valid feature names, but DecisionTreeRegressor was fitted with feature names\n",
      "  warnings.warn(\n",
      "/home/rafaelsilva/anaconda3/envs/meia/lib/python3.10/site-packages/sklearn/base.py:409: UserWarning: X does not have valid feature names, but DecisionTreeRegressor was fitted with feature names\n",
      "  warnings.warn(\n",
      "/home/rafaelsilva/anaconda3/envs/meia/lib/python3.10/site-packages/sklearn/base.py:409: UserWarning: X does not have valid feature names, but DecisionTreeRegressor was fitted with feature names\n",
      "  warnings.warn(\n",
      "/home/rafaelsilva/anaconda3/envs/meia/lib/python3.10/site-packages/sklearn/base.py:409: UserWarning: X does not have valid feature names, but DecisionTreeRegressor was fitted with feature names\n",
      "  warnings.warn(\n",
      "/home/rafaelsilva/anaconda3/envs/meia/lib/python3.10/site-packages/sklearn/base.py:409: UserWarning: X does not have valid feature names, but DecisionTreeRegressor was fitted with feature names\n",
      "  warnings.warn(\n",
      "/home/rafaelsilva/anaconda3/envs/meia/lib/python3.10/site-packages/sklearn/base.py:409: UserWarning: X does not have valid feature names, but DecisionTreeRegressor was fitted with feature names\n",
      "  warnings.warn(\n",
      "/home/rafaelsilva/anaconda3/envs/meia/lib/python3.10/site-packages/sklearn/base.py:409: UserWarning: X does not have valid feature names, but DecisionTreeRegressor was fitted with feature names\n",
      "  warnings.warn(\n",
      "/home/rafaelsilva/anaconda3/envs/meia/lib/python3.10/site-packages/sklearn/base.py:409: UserWarning: X does not have valid feature names, but DecisionTreeRegressor was fitted with feature names\n",
      "  warnings.warn(\n",
      "/home/rafaelsilva/anaconda3/envs/meia/lib/python3.10/site-packages/sklearn/base.py:409: UserWarning: X does not have valid feature names, but DecisionTreeRegressor was fitted with feature names\n",
      "  warnings.warn(\n",
      "/home/rafaelsilva/anaconda3/envs/meia/lib/python3.10/site-packages/sklearn/base.py:409: UserWarning: X does not have valid feature names, but DecisionTreeRegressor was fitted with feature names\n",
      "  warnings.warn(\n",
      "/home/rafaelsilva/anaconda3/envs/meia/lib/python3.10/site-packages/sklearn/base.py:409: UserWarning: X does not have valid feature names, but DecisionTreeRegressor was fitted with feature names\n",
      "  warnings.warn(\n",
      "/home/rafaelsilva/anaconda3/envs/meia/lib/python3.10/site-packages/sklearn/base.py:409: UserWarning: X does not have valid feature names, but DecisionTreeRegressor was fitted with feature names\n",
      "  warnings.warn(\n",
      "/home/rafaelsilva/anaconda3/envs/meia/lib/python3.10/site-packages/sklearn/base.py:409: UserWarning: X does not have valid feature names, but DecisionTreeRegressor was fitted with feature names\n",
      "  warnings.warn(\n",
      "/home/rafaelsilva/anaconda3/envs/meia/lib/python3.10/site-packages/sklearn/base.py:409: UserWarning: X does not have valid feature names, but DecisionTreeRegressor was fitted with feature names\n",
      "  warnings.warn(\n",
      "/home/rafaelsilva/anaconda3/envs/meia/lib/python3.10/site-packages/sklearn/base.py:409: UserWarning: X does not have valid feature names, but DecisionTreeRegressor was fitted with feature names\n",
      "  warnings.warn(\n",
      "/home/rafaelsilva/anaconda3/envs/meia/lib/python3.10/site-packages/sklearn/base.py:409: UserWarning: X does not have valid feature names, but DecisionTreeRegressor was fitted with feature names\n",
      "  warnings.warn(\n",
      "/home/rafaelsilva/anaconda3/envs/meia/lib/python3.10/site-packages/sklearn/base.py:409: UserWarning: X does not have valid feature names, but DecisionTreeRegressor was fitted with feature names\n",
      "  warnings.warn(\n",
      "/home/rafaelsilva/anaconda3/envs/meia/lib/python3.10/site-packages/sklearn/base.py:409: UserWarning: X does not have valid feature names, but DecisionTreeRegressor was fitted with feature names\n",
      "  warnings.warn(\n",
      "/home/rafaelsilva/anaconda3/envs/meia/lib/python3.10/site-packages/sklearn/base.py:409: UserWarning: X does not have valid feature names, but DecisionTreeRegressor was fitted with feature names\n",
      "  warnings.warn(\n",
      "/home/rafaelsilva/anaconda3/envs/meia/lib/python3.10/site-packages/sklearn/base.py:409: UserWarning: X does not have valid feature names, but DecisionTreeRegressor was fitted with feature names\n",
      "  warnings.warn(\n",
      "/home/rafaelsilva/anaconda3/envs/meia/lib/python3.10/site-packages/sklearn/base.py:409: UserWarning: X does not have valid feature names, but DecisionTreeRegressor was fitted with feature names\n",
      "  warnings.warn(\n"
     ]
    }
   ],
   "source": [
    "df1 = df.drop(columns='generated_power')\n",
    "\n",
    "for i in range(10,100):\n",
    "    predictionDataframe = reg.predict([df1.iloc[i]])\n",
    "    print ('Real:', df.iloc[i][\"generated_power\"] ,'  mmh... I predict:',predictionDataframe)\n",
    "    "
   ]
  },
  {
   "cell_type": "code",
   "execution_count": 22,
   "id": "6f7c923a",
   "metadata": {},
   "outputs": [
    {
     "data": {
      "image/png": "[encoded data removed]",
      "text/plain": [
       "<Figure size 640x480 with 1 Axes>"
      ]
     },
     "metadata": {},
     "output_type": "display_data"
    }
   ],
   "source": [
    "import pandas as pd\n",
    "import matplotlib.pyplot as plt\n",
    "\n",
    "day = [[0,0,14,13,1021,220,3,9,95,0,0,0],\n",
    "[1,0,15,14,1021,360,8,12,95,1,2,0],\n",
    "[2,0,15,14,1021,271,11,17,95,0,2,0],\n",
    "[3,0,15,14,1021,281,9,16,96,1,2,0],\n",
    "[4,0,15,14,1021,267,4,19,96,0,3,0],\n",
    "[5,0,15,14,1022,314,6,12,96,0,3,0],\n",
    "[6,0,14,14,1022,232,8,14,96,0,3,0],\n",
    "[7,36,14,13,1023,346,6,19,96,0,3,5],\n",
    "[8,272,14,13,1024,327,9,12,96,0,3,44],\n",
    "[9,536,14,14,1024,13,6,14,96,0,3,84],\n",
    "[10,1036,15,15,1024,343,12,19,96,0,3,148],\n",
    "[11,964,15,14,1024,319,0,12,94,0,3,171],\n",
    "[12,660,16,15,1024,263,4,14,91,0,3,139],\n",
    "[13,1729,16,15,1024,279,11,14,88,0,3,346],\n",
    "[14,593,16,14,1024,336,6,14,88,0,3,121],\n",
    "[15,641,15,14,1024,335,8,11,89,0,3,120],\n",
    "[16,268,15,13,1025,340,6,14,88,0,3,51],\n",
    "[17,26,14,13,1025,347,8,12,90,0,3,5],\n",
    "[21,0,13,12,1026,332,8,8,93,0,3,0],\n",
    "[22,0,13,12,1026,324,1,4,93,0,3,0],\n",
    "[23,0,13,12,1026,345,1,1,94,0,3,0]]\n",
    "\n",
    "df = pd.DataFrame(day, columns = ['hour','generated_power','temperatureC','dewpointC','pressurehPa','wind_direction_degrees','wind_speed_KMH','wind_speed_gustKMH','Humidity','hourly_precipMM','daily_rainMM','solar_radiation_Watts_m2']) \n",
    "\n",
    "y = df['generated_power']\n",
    "X = df.drop(columns='generated_power')\n",
    "x = df['hour']\n",
    "\n",
    "plt.plot(x, y, color=\"red\", label = \"real\")\n",
    "y = reg.predict(X)\n",
    "plt.plot(x, y, color=\"blue\", label = \"predicted\")\n",
    "plt.legend(loc=\"upper left\")\n",
    "plt.show()"
   ]
  }
 ],
 "metadata": {
  "kernelspec": {
   "display_name": "meia",
   "language": "python",
   "name": "python3"
  },
  "language_info": {
   "codemirror_mode": {
    "name": "ipython",
    "version": 3
   },
   "file_extension": ".py",
   "mimetype": "text/x-python",
   "name": "python",
   "nbconvert_exporter": "python",
   "pygments_lexer": "ipython3",
   "version": "3.10.8 (main, Nov 24 2022, 14:13:03) [GCC 11.2.0]"
  },
  "vscode": {
   "interpreter": {
    "hash": "330331cee8b062a8a118c3173851c588dfe88152424601b5dad3f3fe9bd193d7"
   }
  }
 },
 "nbformat": 4,
 "nbformat_minor": 5
}
