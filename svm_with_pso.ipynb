{
 "cells": [
  {
   "attachments": {},
   "cell_type": "markdown",
   "metadata": {},
   "source": [
    "### Import Dataset"
   ]
  },
  {
   "cell_type": "code",
   "execution_count": 1,
   "metadata": {},
   "outputs": [],
   "source": [
    "import pandas as pd\n",
    "from sklearn.preprocessing import StandardScaler\n",
    "from sklearn.model_selection import train_test_split\n",
    "\n",
    "df = pd.read_csv('./datasetFinal.csv')\n",
    "scaler = StandardScaler()\n",
    "\n",
    "names = df.columns\n",
    "d = scaler.fit_transform(df)\n",
    "\n",
    "df = pd.DataFrame(d, columns = names)\n",
    "\n",
    "y = df['generated_power']\n",
    "X = df.drop(columns='generated_power')\n",
    "\n",
    "x_train, x_test, y_train, y_test = train_test_split(X,y,test_size=0.2)"
   ]
  },
  {
   "attachments": {},
   "cell_type": "markdown",
   "metadata": {},
   "source": [
    "### Training Model \n",
    "#### - SVM Linear Regression "
   ]
  },
  {
   "cell_type": "code",
   "execution_count": 2,
   "metadata": {},
   "outputs": [
    {
     "name": "stdout",
     "output_type": "stream",
     "text": [
      "score 0.8132150594733132\n"
     ]
    },
    {
     "name": "stderr",
     "output_type": "stream",
     "text": [
      "/home/pardalito/anaconda3/envs/meia/lib/python3.10/site-packages/sklearn/svm/_base.py:1225: ConvergenceWarning: Liblinear failed to converge, increase the number of iterations.\n",
      "  warnings.warn(\n"
     ]
    }
   ],
   "source": [
    "from sklearn.pipeline import Pipeline\n",
    "from sklearn.svm import LinearSVR\n",
    "\n",
    "\"\"\" svm_linear = Pipeline([\n",
    "    (\"scaler\", StandardScaler()),\n",
    "    (\"svm_poly_reg\", LinearSVR()),\n",
    "]) \"\"\"\n",
    "\n",
    "svm_linear = LinearSVR(C = 100)\n",
    "\n",
    "svm_linear.fit(x_train,y_train)\n",
    "\n",
    "print('score', svm_linear.score(x_test,y_test))"
   ]
  },
  {
   "attachments": {},
   "cell_type": "markdown",
   "metadata": {},
   "source": [
    "#### - Polinomial Regression"
   ]
  },
  {
   "cell_type": "code",
   "execution_count": 3,
   "metadata": {},
   "outputs": [],
   "source": [
    "from sklearn.pipeline import Pipeline\n",
    "from sklearn.preprocessing import StandardScaler\n",
    "from sklearn.svm import SVR\n",
    "\n",
    "\"\"\" svm_poly = Pipeline([\n",
    "    (\"scaler\", StandardScaler()),\n",
    "    (\"svm_poly_reg\", SVR(kernel=\"poly\", degree=2, C=100, epsilon=0.1)),\n",
    "]) \"\"\"\n",
    "\n",
    "svm_poly = SVR(kernel=\"poly\", degree=2, C=100, epsilon=0.1)\n",
    "\n",
    "#svm_poly.fit(x_train,y_train)\n",
    "\n",
    "print('score', svm_poly.score(x_test,y_test))"
   ]
  },
  {
   "attachments": {},
   "cell_type": "markdown",
   "metadata": {},
   "source": [
    "With PSO"
   ]
  },
  {
   "cell_type": "code",
   "execution_count": 7,
   "metadata": {},
   "outputs": [
    {
     "ename": "ValueError",
     "evalue": "C <= 0",
     "output_type": "error",
     "traceback": [
      "\u001b[0;31m---------------------------------------------------------------------------\u001b[0m",
      "\u001b[0;31mValueError\u001b[0m                                Traceback (most recent call last)",
      "\u001b[1;32m/home/pardalito/tenergai/challenge-2/svm_with_pso.ipynb Cell 8\u001b[0m in \u001b[0;36m<cell line: 16>\u001b[0;34m()\u001b[0m\n\u001b[1;32m     <a href='vscode-notebook-cell:/home/pardalito/tenergai/challenge-2/svm_with_pso.ipynb#X10sZmlsZQ%3D%3D?line=12'>13</a>\u001b[0m     \u001b[39mreturn\u001b[39;00m \u001b[39m-\u001b[39mmodel\u001b[39m.\u001b[39mscore(x_test, y_test)  \u001b[39m# maximize the score, so we minimize the negative score\u001b[39;00m\n\u001b[1;32m     <a href='vscode-notebook-cell:/home/pardalito/tenergai/challenge-2/svm_with_pso.ipynb#X10sZmlsZQ%3D%3D?line=14'>15</a>\u001b[0m \u001b[39m# Run the optimization\u001b[39;00m\n\u001b[0;32m---> <a href='vscode-notebook-cell:/home/pardalito/tenergai/challenge-2/svm_with_pso.ipynb#X10sZmlsZQ%3D%3D?line=15'>16</a>\u001b[0m optimal_params, score \u001b[39m=\u001b[39m pso(fitness_fn, lb, ub, swarmsize\u001b[39m=\u001b[39;49m\u001b[39m10\u001b[39;49m, maxiter\u001b[39m=\u001b[39;49m\u001b[39m2\u001b[39;49m)\n",
      "File \u001b[0;32m~/anaconda3/envs/meia/lib/python3.10/site-packages/pyswarm/pso.py:145\u001b[0m, in \u001b[0;36mpso\u001b[0;34m(func, lb, ub, ieqcons, f_ieqcons, args, kwargs, swarmsize, omega, phip, phig, maxiter, minstep, minfunc, debug)\u001b[0m\n\u001b[1;32m    143\u001b[0m x[i, mark1] \u001b[39m=\u001b[39m lb[mark1]\n\u001b[1;32m    144\u001b[0m x[i, mark2] \u001b[39m=\u001b[39m ub[mark2]\n\u001b[0;32m--> 145\u001b[0m fx \u001b[39m=\u001b[39m obj(x[i, :])\n\u001b[1;32m    147\u001b[0m \u001b[39m# Compare particle's best position (if constraints are satisfied)\u001b[39;00m\n\u001b[1;32m    148\u001b[0m \u001b[39mif\u001b[39;00m fx\u001b[39m<\u001b[39mfp[i] \u001b[39mand\u001b[39;00m is_feasible(x[i, :]):\n",
      "File \u001b[0;32m~/anaconda3/envs/meia/lib/python3.10/site-packages/pyswarm/pso.py:74\u001b[0m, in \u001b[0;36mpso.<locals>.<lambda>\u001b[0;34m(x)\u001b[0m\n\u001b[1;32m     71\u001b[0m vlow \u001b[39m=\u001b[39m \u001b[39m-\u001b[39mvhigh\n\u001b[1;32m     73\u001b[0m \u001b[39m# Check for constraint function(s) #########################################\u001b[39;00m\n\u001b[0;32m---> 74\u001b[0m obj \u001b[39m=\u001b[39m \u001b[39mlambda\u001b[39;00m x: func(x, \u001b[39m*\u001b[39;49margs, \u001b[39m*\u001b[39;49m\u001b[39m*\u001b[39;49mkwargs)\n\u001b[1;32m     75\u001b[0m \u001b[39mif\u001b[39;00m f_ieqcons \u001b[39mis\u001b[39;00m \u001b[39mNone\u001b[39;00m:\n\u001b[1;32m     76\u001b[0m     \u001b[39mif\u001b[39;00m \u001b[39mnot\u001b[39;00m \u001b[39mlen\u001b[39m(ieqcons):\n",
      "\u001b[1;32m/home/pardalito/tenergai/challenge-2/svm_with_pso.ipynb Cell 8\u001b[0m in \u001b[0;36mfitness_fn\u001b[0;34m(x)\u001b[0m\n\u001b[1;32m      <a href='vscode-notebook-cell:/home/pardalito/tenergai/challenge-2/svm_with_pso.ipynb#X10sZmlsZQ%3D%3D?line=8'>9</a>\u001b[0m \u001b[39mdef\u001b[39;00m \u001b[39mfitness_fn\u001b[39m(x):\n\u001b[1;32m     <a href='vscode-notebook-cell:/home/pardalito/tenergai/challenge-2/svm_with_pso.ipynb#X10sZmlsZQ%3D%3D?line=9'>10</a>\u001b[0m     \u001b[39m# x is a list of hyperparameters [C, epsilon, gamma]\u001b[39;00m\n\u001b[1;32m     <a href='vscode-notebook-cell:/home/pardalito/tenergai/challenge-2/svm_with_pso.ipynb#X10sZmlsZQ%3D%3D?line=10'>11</a>\u001b[0m     model \u001b[39m=\u001b[39m SVR(C\u001b[39m=\u001b[39mx[\u001b[39m0\u001b[39m], epsilon\u001b[39m=\u001b[39mx[\u001b[39m1\u001b[39m], gamma\u001b[39m=\u001b[39mx[\u001b[39m2\u001b[39m])\n\u001b[0;32m---> <a href='vscode-notebook-cell:/home/pardalito/tenergai/challenge-2/svm_with_pso.ipynb#X10sZmlsZQ%3D%3D?line=11'>12</a>\u001b[0m     model\u001b[39m.\u001b[39;49mfit(x_train, y_train)\n\u001b[1;32m     <a href='vscode-notebook-cell:/home/pardalito/tenergai/challenge-2/svm_with_pso.ipynb#X10sZmlsZQ%3D%3D?line=12'>13</a>\u001b[0m     \u001b[39mreturn\u001b[39;00m \u001b[39m-\u001b[39mmodel\u001b[39m.\u001b[39mscore(x_test, y_test)\n",
      "File \u001b[0;32m~/anaconda3/envs/meia/lib/python3.10/site-packages/sklearn/svm/_base.py:251\u001b[0m, in \u001b[0;36mBaseLibSVM.fit\u001b[0;34m(self, X, y, sample_weight)\u001b[0m\n\u001b[1;32m    248\u001b[0m     \u001b[39mprint\u001b[39m(\u001b[39m\"\u001b[39m\u001b[39m[LibSVM]\u001b[39m\u001b[39m\"\u001b[39m, end\u001b[39m=\u001b[39m\u001b[39m\"\u001b[39m\u001b[39m\"\u001b[39m)\n\u001b[1;32m    250\u001b[0m seed \u001b[39m=\u001b[39m rnd\u001b[39m.\u001b[39mrandint(np\u001b[39m.\u001b[39miinfo(\u001b[39m\"\u001b[39m\u001b[39mi\u001b[39m\u001b[39m\"\u001b[39m)\u001b[39m.\u001b[39mmax)\n\u001b[0;32m--> 251\u001b[0m fit(X, y, sample_weight, solver_type, kernel, random_seed\u001b[39m=\u001b[39;49mseed)\n\u001b[1;32m    252\u001b[0m \u001b[39m# see comment on the other call to np.iinfo in this file\u001b[39;00m\n\u001b[1;32m    254\u001b[0m \u001b[39mself\u001b[39m\u001b[39m.\u001b[39mshape_fit_ \u001b[39m=\u001b[39m X\u001b[39m.\u001b[39mshape \u001b[39mif\u001b[39;00m \u001b[39mhasattr\u001b[39m(X, \u001b[39m\"\u001b[39m\u001b[39mshape\u001b[39m\u001b[39m\"\u001b[39m) \u001b[39melse\u001b[39;00m (n_samples,)\n",
      "File \u001b[0;32m~/anaconda3/envs/meia/lib/python3.10/site-packages/sklearn/svm/_base.py:333\u001b[0m, in \u001b[0;36mBaseLibSVM._dense_fit\u001b[0;34m(self, X, y, sample_weight, solver_type, kernel, random_seed)\u001b[0m\n\u001b[1;32m    319\u001b[0m libsvm\u001b[39m.\u001b[39mset_verbosity_wrap(\u001b[39mself\u001b[39m\u001b[39m.\u001b[39mverbose)\n\u001b[1;32m    321\u001b[0m \u001b[39m# we don't pass **self.get_params() to allow subclasses to\u001b[39;00m\n\u001b[1;32m    322\u001b[0m \u001b[39m# add other parameters to __init__\u001b[39;00m\n\u001b[1;32m    323\u001b[0m (\n\u001b[1;32m    324\u001b[0m     \u001b[39mself\u001b[39m\u001b[39m.\u001b[39msupport_,\n\u001b[1;32m    325\u001b[0m     \u001b[39mself\u001b[39m\u001b[39m.\u001b[39msupport_vectors_,\n\u001b[1;32m    326\u001b[0m     \u001b[39mself\u001b[39m\u001b[39m.\u001b[39m_n_support,\n\u001b[1;32m    327\u001b[0m     \u001b[39mself\u001b[39m\u001b[39m.\u001b[39mdual_coef_,\n\u001b[1;32m    328\u001b[0m     \u001b[39mself\u001b[39m\u001b[39m.\u001b[39mintercept_,\n\u001b[1;32m    329\u001b[0m     \u001b[39mself\u001b[39m\u001b[39m.\u001b[39m_probA,\n\u001b[1;32m    330\u001b[0m     \u001b[39mself\u001b[39m\u001b[39m.\u001b[39m_probB,\n\u001b[1;32m    331\u001b[0m     \u001b[39mself\u001b[39m\u001b[39m.\u001b[39mfit_status_,\n\u001b[1;32m    332\u001b[0m     \u001b[39mself\u001b[39m\u001b[39m.\u001b[39m_num_iter,\n\u001b[0;32m--> 333\u001b[0m ) \u001b[39m=\u001b[39m libsvm\u001b[39m.\u001b[39;49mfit(\n\u001b[1;32m    334\u001b[0m     X,\n\u001b[1;32m    335\u001b[0m     y,\n\u001b[1;32m    336\u001b[0m     svm_type\u001b[39m=\u001b[39;49msolver_type,\n\u001b[1;32m    337\u001b[0m     sample_weight\u001b[39m=\u001b[39;49msample_weight,\n\u001b[1;32m    338\u001b[0m     class_weight\u001b[39m=\u001b[39;49m\u001b[39mself\u001b[39;49m\u001b[39m.\u001b[39;49mclass_weight_,\n\u001b[1;32m    339\u001b[0m     kernel\u001b[39m=\u001b[39;49mkernel,\n\u001b[1;32m    340\u001b[0m     C\u001b[39m=\u001b[39;49m\u001b[39mself\u001b[39;49m\u001b[39m.\u001b[39;49mC,\n\u001b[1;32m    341\u001b[0m     nu\u001b[39m=\u001b[39;49m\u001b[39mself\u001b[39;49m\u001b[39m.\u001b[39;49mnu,\n\u001b[1;32m    342\u001b[0m     probability\u001b[39m=\u001b[39;49m\u001b[39mself\u001b[39;49m\u001b[39m.\u001b[39;49mprobability,\n\u001b[1;32m    343\u001b[0m     degree\u001b[39m=\u001b[39;49m\u001b[39mself\u001b[39;49m\u001b[39m.\u001b[39;49mdegree,\n\u001b[1;32m    344\u001b[0m     shrinking\u001b[39m=\u001b[39;49m\u001b[39mself\u001b[39;49m\u001b[39m.\u001b[39;49mshrinking,\n\u001b[1;32m    345\u001b[0m     tol\u001b[39m=\u001b[39;49m\u001b[39mself\u001b[39;49m\u001b[39m.\u001b[39;49mtol,\n\u001b[1;32m    346\u001b[0m     cache_size\u001b[39m=\u001b[39;49m\u001b[39mself\u001b[39;49m\u001b[39m.\u001b[39;49mcache_size,\n\u001b[1;32m    347\u001b[0m     coef0\u001b[39m=\u001b[39;49m\u001b[39mself\u001b[39;49m\u001b[39m.\u001b[39;49mcoef0,\n\u001b[1;32m    348\u001b[0m     gamma\u001b[39m=\u001b[39;49m\u001b[39mself\u001b[39;49m\u001b[39m.\u001b[39;49m_gamma,\n\u001b[1;32m    349\u001b[0m     epsilon\u001b[39m=\u001b[39;49m\u001b[39mself\u001b[39;49m\u001b[39m.\u001b[39;49mepsilon,\n\u001b[1;32m    350\u001b[0m     max_iter\u001b[39m=\u001b[39;49m\u001b[39mself\u001b[39;49m\u001b[39m.\u001b[39;49mmax_iter,\n\u001b[1;32m    351\u001b[0m     random_seed\u001b[39m=\u001b[39;49mrandom_seed,\n\u001b[1;32m    352\u001b[0m )\n\u001b[1;32m    354\u001b[0m \u001b[39mself\u001b[39m\u001b[39m.\u001b[39m_warn_from_fit_status()\n",
      "File \u001b[0;32msklearn/svm/_libsvm.pyx:192\u001b[0m, in \u001b[0;36msklearn.svm._libsvm.fit\u001b[0;34m()\u001b[0m\n",
      "\u001b[0;31mValueError\u001b[0m: C <= 0"
     ]
    }
   ],
   "source": [
    "from sklearn.svm import SVR\n",
    "from pyswarm import pso\n",
    "\n",
    "# Define the search space for the hyperparameters\n",
    "lb = [1, 0.1, 1]  # lower bounds for C, epsilon, and gamma\n",
    "ub = [10, 0.5, 5]  # upper bounds for C, epsilon, and gamma\n",
    "\n",
    "# Define the fitness function that will be used to evaluate the particles\n",
    "def fitness_fn(x):\n",
    "    # x is a list of hyperparameters [C, epsilon, gamma]\n",
    "    model = SVR(C=x[0], epsilon=x[1], gamma=x[2])\n",
    "    model.fit(x_train, y_train)\n",
    "    return -model.score(x_test, y_test)  # maximize the score, so we minimize the negative score\n",
    "\n",
    "# Run the optimization\n",
    "optimal_params, score = pso(fitness_fn, lb, ub, swarmsize=10, maxiter=2)\n",
    "\n",
    "# optimal_params contains the optimal set of hyperparameters\n",
    "# score is the value of the fitness function at the optimal point"
   ]
  },
  {
   "cell_type": "code",
   "execution_count": 12,
   "metadata": {},
   "outputs": [
    {
     "name": "stdout",
     "output_type": "stream",
     "text": [
      "Stopping search: maximum iterations reached --> 2\n"
     ]
    },
    {
     "data": {
      "image/png": "[encoded data removed]",
      "text/plain": [
       "<Figure size 432x288 with 1 Axes>"
      ]
     },
     "metadata": {
      "needs_background": "light"
     },
     "output_type": "display_data"
    }
   ],
   "source": [
    "import matplotlib.pyplot as plt\n",
    "\n",
    "# Define the search space for the hyperparameters\n",
    "lb = [1, 0.1, 1]  # lower bounds for C, epsilon, and gamma\n",
    "ub = [10, 0.5, 5]  # upper bounds for C, epsilon, and gamma\n",
    "\n",
    "# Define a global list to store the values of the fitness function\n",
    "cost_history = []\n",
    "\n",
    "def fitness_fn(x):\n",
    "    # x is a list of hyperparameters [C, epsilon, gamma]\n",
    "    model = SVR(C=x[0], epsilon=x[1], gamma=x[2])\n",
    "    model.fit(x_train, y_train)\n",
    "    score = model.score(x_test, y_test)\n",
    "    cost_history.append(score)  # store the value of the fitness function\n",
    "    return -score  # maximize the score, so we minimize the negative score\n",
    "\n",
    "# Run the optimization\n",
    "optimal_params, score = pso(fitness_fn, lb, ub, swarmsize=5, maxiter=2)\n"
   ]
  },
  {
   "cell_type": "code",
   "execution_count": 25,
   "metadata": {},
   "outputs": [
    {
     "name": "stderr",
     "output_type": "stream",
     "text": [
      "2023-01-02 03:24:01,801 - matplotlib.animation - INFO - Animation.save using <class 'matplotlib.animation.FFMpegWriter'>\n",
      "2023-01-02 03:24:01,803 - matplotlib.animation - INFO - MovieWriter._run: running command: ffmpeg -f rawvideo -vcodec rawvideo -s 432x288 -pix_fmt rgba -r 30 -loglevel error -i pipe: -vcodec h264 -pix_fmt yuv420p -y animation.mp4\n"
     ]
    },
    {
     "data": {
      "image/png": "[encoded data removed]",
      "text/plain": [
       "<Figure size 432x288 with 1 Axes>"
      ]
     },
     "metadata": {
      "needs_background": "light"
     },
     "output_type": "display_data"
    }
   ],
   "source": [
    "def update(num, x, y, z):\n",
    "    ax.scatter(x[:num], y[:num], z[:num], c='k', marker='o')\n",
    "    ax.view_init(elev=30, azim=num)\n",
    "\n",
    "# Create a 3D figure\n",
    "fig = plt.figure()\n",
    "ax = fig.add_subplot(111, projection='3d')\n",
    "\n",
    "# Create the animation\n",
    "ani = FuncAnimation(fig, update, frames=range(1, len(cost_history)), fargs=[cost_history[:], cost_history[:], cost_history[:]], repeat=True)\n",
    "\n",
    "# Save the animation as an MP4 file\n",
    "ani.save('animation.mp4', writer='ffmpeg', fps=30)\n",
    "\n",
    "# Show the plot"
   ]
  },
  {
   "cell_type": "code",
   "execution_count": 26,
   "metadata": {},
   "outputs": [
    {
     "data": {
      "text/plain": [
       "array([10.        ,  0.23848433,  2.20874739])"
      ]
     },
     "execution_count": 26,
     "metadata": {},
     "output_type": "execute_result"
    }
   ],
   "source": [
    "optimal_params"
   ]
  }
 ],
 "metadata": {
  "kernelspec": {
   "display_name": "meia",
   "language": "python",
   "name": "python3"
  },
  "language_info": {
   "codemirror_mode": {
    "name": "ipython",
    "version": 3
   },
   "file_extension": ".py",
   "mimetype": "text/x-python",
   "name": "python",
   "nbconvert_exporter": "python",
   "pygments_lexer": "ipython3",
   "version": "3.10.8"
  },
  "orig_nbformat": 4,
  "vscode": {
   "interpreter": {
    "hash": "c8084ebee4763c519a852e718642eb8deca4b9361be3eba292547691ac892c56"
   }
  }
 },
 "nbformat": 4,
 "nbformat_minor": 2
}
