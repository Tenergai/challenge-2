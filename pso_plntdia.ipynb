{
 "cells": [
  {
   "cell_type": "code",
   "execution_count": 1,
   "metadata": {},
   "outputs": [
    {
     "name": "stdout",
     "output_type": "stream",
     "text": [
      "['ac,200,10', 'washing_machine,400,9', 'dryer,100,5', 'roomba,500,7', 'microwave,100,4', 'ev,150,10']\n"
     ]
    }
   ],
   "source": [
    "import matplotlib.pyplot as plt\n",
    "from pyswarm import pso\n",
    "from sklearn.svm import SVR\n",
    "import math\n",
    "f=open('devices.txt', 'r')\n",
    "devices = f.readlines()\n",
    "for l in range(0,len(devices)):\n",
    "    devices[l]=devices[l].replace('\\n','')\n",
    "print(devices)\n",
    "\n",
    "\n"
   ]
  },
  {
   "cell_type": "code",
   "execution_count": 2,
   "metadata": {},
   "outputs": [
    {
     "name": "stdout",
     "output_type": "stream",
     "text": [
      "devices ['ac,200,10', 'washing_machine,400,9', 'dryer,100,5', 'roomba,500,7', 'microwave,100,4', 'ev,150,10']\n",
      "ordered ['ac,200,10', 'ev,150,10', 'washing_machine,400,9', 'roomba,500,7', 'dryer,100,5', 'microwave,100,4']\n"
     ]
    }
   ],
   "source": [
    "max_priority=0\n",
    "prior_device=None \n",
    "devices_order_priority=[]\n",
    "aux=devices\n",
    "'''Selecionar o device com maior prioridade'''\n",
    "print('devices', devices)\n",
    "for device in devices:\n",
    "    for entry in aux:\n",
    "        if entry not in devices_order_priority:\n",
    "            data_entry=entry.split(',')\n",
    "            p=int(data_entry[2])\n",
    "            if p>max_priority:        \n",
    "                max_priority=p\n",
    "                prior_device=entry\n",
    "    devices_order_priority.append(prior_device)\n",
    "    max_priority=0\n",
    "    prior_device=None     \n",
    "print('ordered',devices_order_priority)"
   ]
  },
  {
   "cell_type": "code",
   "execution_count": 3,
   "metadata": {},
   "outputs": [],
   "source": [
    "# Define a global list to store the values of the fitness function\n",
    "cost_history = []\n",
    "scalling_devices=[]\n",
    "scalling_devices.append([])\n",
    "scalling_devices.append([])\n",
    "scalling_devices.append([])"
   ]
  },
  {
   "cell_type": "code",
   "execution_count": 4,
   "metadata": {},
   "outputs": [],
   "source": [
    "def decimalToBinary(n):\n",
    "    return \"{0:b}\".format(int(n))"
   ]
  },
  {
   "cell_type": "code",
   "execution_count": 5,
   "metadata": {},
   "outputs": [],
   "source": [
    "def calculateConsumptionList(l):\n",
    "    totalconsumption=0\n",
    "    for entry in l:\n",
    "        device=entry.split(',')        \n",
    "        totalconsumption+=int(device[1])\n",
    "    return totalconsumption\n"
   ]
  },
  {
   "cell_type": "code",
   "execution_count": 6,
   "metadata": {},
   "outputs": [
    {
     "name": "stdout",
     "output_type": "stream",
     "text": [
      "63\n",
      "Stopping search: maximum iterations reached --> 10\n"
     ]
    },
    {
     "name": "stderr",
     "output_type": "stream",
     "text": [
      "C:\\Users\\tyty\\AppData\\Local\\Temp\\ipykernel_114308\\2641934368.py:9: RuntimeWarning: divide by zero encountered in double_scalars\n",
      "  score = abs(totalconsumption-x[0])/len(list)\n"
     ]
    }
   ],
   "source": [
    "def fitness_fn(x):\n",
    "    #decimal representing number of devices to binary\n",
    "    binary = decimalToBinary(x[1])\n",
    "    list = binary_to_list(binary)\n",
    "    #iterar sobre a lista e calcular o consumo dos devices na lista\n",
    "    # print('lista_from_binary',list)\n",
    "    totalconsumption=calculateConsumptionList(list)\n",
    "    if len(list)!=0:\n",
    "        score = abs(totalconsumption-x[0])/len(list)\n",
    "    else:\n",
    "        score = abs(totalconsumption-x[0])\n",
    "    scalling_devices[0].append(x[0])\n",
    "    scalling_devices[0].append(int(x[1]))\n",
    "    cost_history.append(score)  # store the value of the fitness function\n",
    "    return score  # maximize the score, so we minimize the negative score\n",
    "\n",
    "def binary_to_list(binary):\n",
    "    # Iterate through the list and add a \"1\" to the result string for each \"on\" object\n",
    "    # and a \"0\" for each \"off\" object\n",
    "    lst = []\n",
    "    i = 0\n",
    "    for obj in str(binary):\n",
    "        if obj == \"1\":\n",
    "            lst.append(devices_order_priority[i])\n",
    "        i += 1\n",
    "\n",
    "    # Return the result as an integer\n",
    "    return lst\n",
    "\n",
    "#transform list to binary adding 1 for each device\n",
    "lista_devices_todos_ligados_decimal=[1]*len(devices_order_priority)\n",
    "#transform binary to decimal\n",
    "lista_devices_todos_ligados_decimal=pow(2,len(devices_order_priority))-1\n",
    "print(lista_devices_todos_ligados_decimal)\n",
    "# Run the optimization\n",
    "\n",
    "# Define the search space for the hyperparameters\n",
    "lb =[0,0] # lower bounds for generation, device list\n",
    "ub = [500,lista_devices_todos_ligados_decimal]  # upper bounds for generation, device list\n",
    "\n",
    "optimal_params, score = pso(fitness_fn, lb, ub, swarmsize=10, maxiter=10)\n",
    "binary=decimalToBinary(optimal_params[1])\n",
    "final=binary_to_list(binary)\n",
    "#agora falta transformar em decimal aondE?"
   ]
  },
  {
   "cell_type": "code",
   "execution_count": 7,
   "metadata": {},
   "outputs": [
    {
     "name": "stdout",
     "output_type": "stream",
     "text": [
      "optimal hyperparameters: [450.75596731  50.35706201]\n",
      "score: 0.25198910237552735\n",
      "devices ['ac,200,10', 'ev,150,10', 'dryer,100,5']\n"
     ]
    }
   ],
   "source": [
    "\n",
    "print(\"optimal hyperparameters: \"+ str(optimal_params))\n",
    "print(\"score: \"+ str(score))\n",
    "print('devices', final)\n",
    "# for s in check_scalling_devices:\n",
    "#     print('sca', s)"
   ]
  }
 ],
 "metadata": {
  "kernelspec": {
   "display_name": "Python 3",
   "language": "python",
   "name": "python3"
  },
  "language_info": {
   "codemirror_mode": {
    "name": "ipython",
    "version": 3
   },
   "file_extension": ".py",
   "mimetype": "text/x-python",
   "name": "python",
   "nbconvert_exporter": "python",
   "pygments_lexer": "ipython3",
   "version": "3.10.9"
  },
  "orig_nbformat": 4,
  "vscode": {
   "interpreter": {
    "hash": "441e6eca0983899b17bb4710f981b38f450ca3c49b0b8f01a5f9724268c0f52d"
   }
  }
 },
 "nbformat": 4,
 "nbformat_minor": 2
}
