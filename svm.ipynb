{
 "cells": [
  {
   "attachments": {},
   "cell_type": "markdown",
   "metadata": {},
   "source": [
    "### Import Dataset"
   ]
  },
  {
   "cell_type": "code",
   "execution_count": 2,
   "metadata": {},
   "outputs": [],
   "source": [
    "import pandas as pd\n",
    "import numpy as np\n",
    "from sklearn.preprocessing import StandardScaler\n",
    "from sklearn.model_selection import train_test_split\n",
    "\n",
    "df = pd.read_csv('./datasetFinal.csv')\n",
    "\n",
    "y = df['generated_power']\n",
    "X = df.drop(columns='generated_power')\n",
    "\n",
    "x_train, x_test, y_train, y_test = train_test_split(X,y,test_size=0.2)"
   ]
  },
  {
   "attachments": {},
   "cell_type": "markdown",
   "metadata": {},
   "source": [
    "### Training Model \n",
    "#### SVM rbf Regression\n",
    "    score = 0.8504015779914551\n"
   ]
  },
  {
   "cell_type": "code",
   "execution_count": 23,
   "metadata": {},
   "outputs": [
    {
     "name": "stdout",
     "output_type": "stream",
     "text": [
      "[341.89582666 203.36152832 151.86834363 ... 305.00689624 249.60316183\n",
      " 492.32681362]\n",
      "Mean Absolute Error:  727.0463027547928\n",
      "Root Mean Squared Error:  1412.4916007270629\n",
      "Score -0.40143439608894815\n"
     ]
    }
   ],
   "source": [
    "from sklearn.pipeline import Pipeline\n",
    "from sklearn.svm import SVR\n",
    "from sklearn.metrics import mean_absolute_error\n",
    "from sklearn.metrics import mean_squared_error\n",
    "import math\n",
    "\n",
    "pipeline = Pipeline([\n",
    "    (\"scaler\", StandardScaler()),\n",
    "    (\"SVR\", SVR(C = 1.59041293, epsilon = 0.1, gamma = 1))\n",
    "])\n",
    "\n",
    "# Scale the data and fit the model\n",
    "pipeline.fit(x_train, y_train)\n",
    "\n",
    "y_pred = pipeline.predict(x_test)\n",
    "\n",
    "print(y_pred)\n",
    "print('Mean Absolute Error: ', mean_absolute_error(y_pred, y_test))\n",
    "print('Root Mean Squared Error: ', math.sqrt(mean_squared_error(y_pred,y_test)))\n",
    "print('Score', pipeline.score(x_test,y_test))"
   ]
  },
  {
   "attachments": {},
   "cell_type": "markdown",
   "metadata": {},
   "source": [
    "#### Polinomial Regression\n",
    "score = 0.7440280771578609"
   ]
  },
  {
   "cell_type": "code",
   "execution_count": 5,
   "metadata": {},
   "outputs": [
    {
     "name": "stdout",
     "output_type": "stream",
     "text": [
      "[1831.54239427  651.30882269  786.35365052 ...    2.18075809  -18.70565903\n",
      "  277.87651096]\n",
      "Mean Absolute Error:  239.52306353326617\n",
      "Root Mean Squared Error:  528.31451809663\n",
      "score 0.8579426107221395\n"
     ]
    }
   ],
   "source": [
    "from sklearn.pipeline import Pipeline\n",
    "from sklearn.preprocessing import StandardScaler\n",
    "from sklearn.metrics import mean_absolute_error\n",
    "from sklearn.metrics import mean_squared_error\n",
    "from sklearn.svm import SVR\n",
    "import math\n",
    "\n",
    "svm_poly = Pipeline([\n",
    "    (\"scaler\", StandardScaler()),\n",
    "    (\"svm_reg\", SVR(C=200,epsilon = 0.85494314, gamma = 1)),\n",
    "])\n",
    "\n",
    "svm_poly.fit(x_train,y_train)\n",
    "\n",
    "y_pred = svm_poly.predict(x_test)\n",
    "\n",
    "print(y_pred)\n",
    "print('Mean Absolute Error: ', mean_absolute_error(y_pred, y_test))\n",
    "print('Root Mean Squared Error: ', math.sqrt(mean_squared_error(y_pred,y_test)))\n",
    "print('score', svm_poly.score(x_test,y_test))"
   ]
  },
  {
   "cell_type": "code",
   "execution_count": 6,
   "metadata": {},
   "outputs": [
    {
     "ename": "NameError",
     "evalue": "name 'reg' is not defined",
     "output_type": "error",
     "traceback": [
      "\u001b[0;31m---------------------------------------------------------------------------\u001b[0m",
      "\u001b[0;31mNameError\u001b[0m                                 Traceback (most recent call last)",
      "Cell \u001b[0;32mIn[6], line 2\u001b[0m\n\u001b[1;32m      1\u001b[0m \u001b[39mfrom\u001b[39;00m \u001b[39msklearn\u001b[39;00m\u001b[39m.\u001b[39;00m\u001b[39mmodel_selection\u001b[39;00m \u001b[39mimport\u001b[39;00m cross_val_score\n\u001b[0;32m----> 2\u001b[0m cross_val_score(reg,X_train,y_train, cv\u001b[39m=\u001b[39m\u001b[39m10\u001b[39m)\n",
      "\u001b[0;31mNameError\u001b[0m: name 'reg' is not defined"
     ]
    }
   ],
   "source": [
    "from sklearn.model_selection import cross_val_score\n",
    "cross_val_score(reg,X_train,y_train, cv=10)"
   ]
  },
  {
   "cell_type": "code",
   "execution_count": 67,
   "metadata": {},
   "outputs": [
    {
     "data": {
      "image/png": "[encoded data removed]",
      "text/plain": [
       "<Figure size 640x480 with 1 Axes>"
      ]
     },
     "metadata": {},
     "output_type": "display_data"
    }
   ],
   "source": [
    "import pandas as pd\n",
    "import matplotlib.pyplot as plt\n",
    "\n",
    "day = [[0,0,14,13,1021,220,3,9,95,0,0,0],\n",
    "[1,0,15,14,1021,360,8,12,95,1,2,0],\n",
    "[2,0,15,14,1021,271,11,17,95,0,2,0],\n",
    "[3,0,15,14,1021,281,9,16,96,1,2,0],\n",
    "[4,0,15,14,1021,267,4,19,96,0,3,0],\n",
    "[5,0,15,14,1022,314,6,12,96,0,3,0],\n",
    "[6,0,14,14,1022,232,8,14,96,0,3,0],\n",
    "[7,36,14,13,1023,346,6,19,96,0,3,5],\n",
    "[8,272,14,13,1024,327,9,12,96,0,3,44],\n",
    "[9,536,14,14,1024,13,6,14,96,0,3,84],\n",
    "[10,1036,15,15,1024,343,12,19,96,0,3,148],\n",
    "[11,964,15,14,1024,319,0,12,94,0,3,171],\n",
    "[12,660,16,15,1024,263,4,14,91,0,3,139],\n",
    "[13,1729,16,15,1024,279,11,14,88,0,3,346],\n",
    "[14,593,16,14,1024,336,6,14,88,0,3,121],\n",
    "[15,641,15,14,1024,335,8,11,89,0,3,120],\n",
    "[16,268,15,13,1025,340,6,14,88,0,3,51],\n",
    "[17,26,14,13,1025,347,8,12,90,0,3,5],\n",
    "[21,0,13,12,1026,332,8,8,93,0,3,0],\n",
    "[22,0,13,12,1026,324,1,4,93,0,3,0],\n",
    "[23,0,13,12,1026,345,1,1,94,0,3,0]]\n",
    "\n",
    "df = pd.DataFrame(day, columns = ['hour','generated_power','temperatureC','dewpointC','pressurehPa','wind_direction_degrees','wind_speed_KMH','wind_speed_gustKMH','Humidity','hourly_precipMM','daily_rainMM','solar_radiation_Watts_m2']) \n",
    "\n",
    "y = df['generated_power']\n",
    "X = df.drop(columns='generated_power')\n",
    "x = df['hour']\n",
    "\n",
    "plt.plot(x, y, color=\"red\", label = \"real\")\n",
    "y = svm_poly.predict(X)\n",
    "plt.plot(x, y, color=\"blue\", label = \"predicted\")\n",
    "plt.legend(loc=\"upper left\")\n",
    "plt.show()"
   ]
  },
  {
   "cell_type": "code",
   "execution_count": 60,
   "metadata": {},
   "outputs": [
    {
     "name": "stdout",
     "output_type": "stream",
     "text": [
      "hour                          13\n",
      "temperatureC                  17\n",
      "dewpointC                     13\n",
      "pressurehPa                 1025\n",
      "wind_direction_degrees       239\n",
      "wind_speed_KMH                 3\n",
      "wind_speed_gustKMH             8\n",
      "Humidity                      75\n",
      "hourly_precipMM                0\n",
      "daily_rainMM                   0\n",
      "solar_radiation_Watts_m2     374\n",
      "Name: 19019, dtype: int64\n",
      "Real: 822   mmh... I predict: [2197.64598696]\n"
     ]
    },
    {
     "name": "stderr",
     "output_type": "stream",
     "text": [
      "/home/rafaelsilva/anaconda3/envs/meia/lib/python3.10/site-packages/sklearn/base.py:409: UserWarning: X does not have valid feature names, but StandardScaler was fitted with feature names\n",
      "  warnings.warn(\n"
     ]
    }
   ],
   "source": [
    "B = df.drop(columns='generated_power')\n",
    "i = 19019\n",
    "day = B.iloc[i]\n",
    "\n",
    "y_test = df.iloc[i][\"generated_power\"]\n",
    "\n",
    "print(day)\n",
    "y_pred = svm_poly.predict([day])\n",
    "print ('Real:', y_test ,'  mmh... I predict:',y_pred)"
   ]
  },
  {
   "attachments": {},
   "cell_type": "markdown",
   "metadata": {},
   "source": [
    "#### SVR Linear With PSO\n",
    "- C = 1.59041293\n",
    "- epsilon = 0.1 \n",
    "- gamma = 1\n",
    "- score = 0.9058933524753529\n"
   ]
  },
  {
   "cell_type": "code",
   "execution_count": 41,
   "metadata": {},
   "outputs": [],
   "source": [
    "import matplotlib.pyplot as plt\n",
    "from pyswarm import pso\n",
    "from sklearn.svm import SVR\n",
    "\n",
    "# Define the search space for the hyperparameters\n",
    "lb = [1, 0.1, 1]  # lower bounds for C, epsilon, and gamma\n",
    "ub = [10, 0.5, 5]  # upper bounds for C, epsilon, and gamma\n",
    "\n",
    "# Define a global list to store the values of the fitness function\n",
    "cost_history = []\n",
    "hyperparameters_history = []\n",
    "hyperparameters_history.append([])\n",
    "hyperparameters_history.append([])\n",
    "hyperparameters_history.append([])\n",
    "\n",
    "\n",
    "def fitness_linear(x):\n",
    "    # x is a list of hyperparameters [C, epsilon, gamma]\n",
    "    model = Pipeline([\n",
    "        (\"scaler\", StandardScaler()),\n",
    "        (\"SVR\", SVR(C=x[0], epsilon=x[1], gamma=x[2]))\n",
    "    ])\n",
    "    model.fit(x_train, y_train)\n",
    "    score = model.score(x_test, y_test)\n",
    "    \n",
    "    hyperparameters_history[0].append(x[0])\n",
    "    hyperparameters_history[1].append(x[1])\n",
    "    hyperparameters_history[2].append(x[2])\n",
    "    cost_history.append(score)  # store the value of the fitness function\n",
    "    return -score  # maximize the score, so we minimize the negative score\n",
    "\n",
    "# Run the optimization\n",
    "optimal_params, score = pso(fitness_linear, lb, ub, swarmsize=10, maxiter=2)\n",
    "print(\"optimal hyperparameters: \"+ str(optimal_params))\n",
    "print(\"score: \"+ str(score))\n",
    "\n",
    "# Plot the convergence of the optimization\n",
    "plt.plot(cost_history)\n",
    "plt.xlabel('Iteration')\n",
    "plt.ylabel('Fitness')\n",
    "plt.title('Convergence of the PSO Optimization')\n",
    "plt.show()"
   ]
  },
  {
   "attachments": {},
   "cell_type": "markdown",
   "metadata": {},
   "source": [
    "#### SVR Polinomial With PSO\n",
    "C =  Epsilon =   Gamma = \n",
    "score = 0.7440280771578609"
   ]
  },
  {
   "cell_type": "code",
   "execution_count": null,
   "metadata": {},
   "outputs": [],
   "source": [
    "import matplotlib.pyplot as plt\n",
    "\n",
    "# Define a global list to store the values of the fitness function\n",
    "cost_history = []\n",
    "hyperparameters_history = []\n",
    "hyperparameters_history.append([])\n",
    "hyperparameters_history.append([])\n",
    "hyperparameters_history.append([])\n",
    "\n",
    "# Define the search space for the hyperparameters\n",
    "lb = [2, 1, 0.1, 1]  # lower bounds for degree, C, epsilon, and gamma\n",
    "ub = [4, 10, 0.5, 5]  # upper bounds for degree, C, epsilon, and gamma\n",
    "\n",
    "def fitness_polinomial(x):\n",
    "    # x is a list of hyperparameters [C, epsilon, gamma]\n",
    "    model = SVR(kernel = \"poly\", degree = x[0], C=x[1], epsilon=x[2], gamma=x[3])\n",
    "    model.fit(x_train, y_train)\n",
    "    score = model.score(x_test, y_test)\n",
    "    hyperparameters_history[0].append(x[0])\n",
    "    hyperparameters_history[1].append(x[1])\n",
    "    hyperparameters_history[2].append(x[2])\n",
    "    cost_history.append(score)  # store the value of the fitness function\n",
    "    return -score  # maximize the score, so we minimize the negative score\n",
    "\n",
    "# Run the optimization\n",
    "optimal_params, score = pso(fitness_polinomial, lb, ub, swarmsize=10, maxiter=10)\n",
    "print(\"optimal hyperparameters: \"+ str(optimal_params))\n",
    "print(\"score: \"+ str(score))\n",
    "\n",
    "# Plot the convergence of the optimization\n",
    "plt.plot(cost_history)\n",
    "plt.xlabel('Iteration')\n",
    "plt.ylabel('Fitness')\n",
    "plt.title('Convergence of the PSO Optimization')\n",
    "plt.show()"
   ]
  },
  {
   "cell_type": "code",
   "execution_count": 10,
   "metadata": {},
   "outputs": [
    {
     "ename": "NameError",
     "evalue": "name 'hyperparameters_history' is not defined",
     "output_type": "error",
     "traceback": [
      "\u001b[0;31m---------------------------------------------------------------------------\u001b[0m",
      "\u001b[0;31mNameError\u001b[0m                                 Traceback (most recent call last)",
      "\u001b[1;32m/home/pardalito/tenergai/challenge-2/svm.ipynb Cell 10\u001b[0m in \u001b[0;36m<cell line: 13>\u001b[0;34m()\u001b[0m\n\u001b[1;32m     <a href='vscode-notebook-cell:/home/pardalito/tenergai/challenge-2/svm.ipynb#X13sZmlsZQ%3D%3D?line=9'>10</a>\u001b[0m ax \u001b[39m=\u001b[39m fig\u001b[39m.\u001b[39madd_subplot(\u001b[39m111\u001b[39m, projection\u001b[39m=\u001b[39m\u001b[39m'\u001b[39m\u001b[39m3d\u001b[39m\u001b[39m'\u001b[39m)\n\u001b[1;32m     <a href='vscode-notebook-cell:/home/pardalito/tenergai/challenge-2/svm.ipynb#X13sZmlsZQ%3D%3D?line=11'>12</a>\u001b[0m \u001b[39m# Create the animation\u001b[39;00m\n\u001b[0;32m---> <a href='vscode-notebook-cell:/home/pardalito/tenergai/challenge-2/svm.ipynb#X13sZmlsZQ%3D%3D?line=12'>13</a>\u001b[0m ani \u001b[39m=\u001b[39m FuncAnimation(fig, update, frames\u001b[39m=\u001b[39m\u001b[39mrange\u001b[39m(\u001b[39mlen\u001b[39m(hyperparameters_history[\u001b[39m0\u001b[39m])\u001b[39m-\u001b[39m\u001b[39m1\u001b[39m), fargs\u001b[39m=\u001b[39m[hyperparameters_history[\u001b[39m0\u001b[39m],hyperparameters_history[\u001b[39m1\u001b[39m],hyperparameters_history[\u001b[39m2\u001b[39m]], repeat\u001b[39m=\u001b[39m\u001b[39mTrue\u001b[39;00m)\n\u001b[1;32m     <a href='vscode-notebook-cell:/home/pardalito/tenergai/challenge-2/svm.ipynb#X13sZmlsZQ%3D%3D?line=14'>15</a>\u001b[0m \u001b[39m# Save the animation as an MP4 file\u001b[39;00m\n\u001b[1;32m     <a href='vscode-notebook-cell:/home/pardalito/tenergai/challenge-2/svm.ipynb#X13sZmlsZQ%3D%3D?line=15'>16</a>\u001b[0m ani\u001b[39m.\u001b[39msave(\u001b[39m'\u001b[39m\u001b[39manimation.mp4\u001b[39m\u001b[39m'\u001b[39m, writer\u001b[39m=\u001b[39m\u001b[39m'\u001b[39m\u001b[39mffmpeg\u001b[39m\u001b[39m'\u001b[39m, fps\u001b[39m=\u001b[39m\u001b[39m30\u001b[39m)\n",
      "\u001b[0;31mNameError\u001b[0m: name 'hyperparameters_history' is not defined"
     ]
    },
    {
     "data": {
      "image/png": "[encoded data removed]",
      "text/plain": [
       "<Figure size 432x288 with 1 Axes>"
      ]
     },
     "metadata": {
      "needs_background": "light"
     },
     "output_type": "display_data"
    }
   ],
   "source": [
    "import matplotlib.pyplot as plt\n",
    "from matplotlib.animation import FuncAnimation\n",
    "\n",
    "def update(num, x, y, z):\n",
    "    ax.scatter(x[:num], y[:num], z[:num], c='k', marker='o')\n",
    "    ax.view_init(elev=30, azim=num)\n",
    "\n",
    "# Create a 3D figure\n",
    "fig = plt.figure()\n",
    "ax = fig.add_subplot(111, projection='3d')\n",
    "\n",
    "# Create the animation\n",
    "ani = FuncAnimation(fig, update, frames=range(len(hyperparameters_history[0])-1), fargs=[hyperparameters_history[0],hyperparameters_history[1],hyperparameters_history[2]], repeat=True)\n",
    "\n",
    "# Save the animation as an MP4 file\n",
    "ani.save('animation.mp4', writer='ffmpeg', fps=30)\n",
    "\n",
    "# Show the plot\n",
    "plt.show()"
   ]
  }
 ],
 "metadata": {
  "kernelspec": {
   "display_name": "meia",
   "language": "python",
   "name": "python3"
  },
  "language_info": {
   "codemirror_mode": {
    "name": "ipython",
    "version": 3
   },
   "file_extension": ".py",
   "mimetype": "text/x-python",
   "name": "python",
   "nbconvert_exporter": "python",
   "pygments_lexer": "ipython3",
   "version": "3.10.8 (main, Nov 24 2022, 14:13:03) [GCC 11.2.0]"
  },
  "orig_nbformat": 4,
  "vscode": {
   "interpreter": {
    "hash": "330331cee8b062a8a118c3173851c588dfe88152424601b5dad3f3fe9bd193d7"
   }
  }
 },
 "nbformat": 4,
 "nbformat_minor": 2
}
