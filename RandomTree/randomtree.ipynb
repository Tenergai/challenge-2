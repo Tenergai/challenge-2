{
 "cells": [
  {
   "cell_type": "code",
   "execution_count": 1,
   "metadata": {
    "collapsed": true,
    "pycharm": {
     "name": "#%%\n"
    }
   },
   "outputs": [],
   "source": [
    "import pandas as pd\n",
    "from sklearn.model_selection import train_test_split\n",
    "\n",
    "df = pd.read_csv('./datasetFinal.csv')\n",
    "\n",
    "y = df['generated_power']\n",
    "X = df.drop(columns=['generated_power'])\n",
    "\n",
    "X_train, X_test, y_train, y_test = train_test_split(X,y,test_size=0.2)\n"
   ]
  },
  {
   "cell_type": "code",
   "execution_count": 2,
   "metadata": {
    "collapsed": false,
    "pycharm": {
     "name": "#%%\n"
    }
   },
   "outputs": [
    {
     "name": "stdout",
     "output_type": "stream",
     "text": [
      "   hour  generated_power  temperatureC  dewpointC  pressurehPa  \\\n",
      "0     0                0            11          8         1021   \n",
      "1     1                0            11          8         1021   \n",
      "2     2                0            11          7         1020   \n",
      "3     3                0            11          7         1018   \n",
      "4     4                0            11          7         1018   \n",
      "\n",
      "   wind_direction_degrees  wind_speed_KMH  wind_speed_gustKMH  Humidity  \\\n",
      "0                     143               0                  20        83   \n",
      "1                     130               4                   6        81   \n",
      "2                     121               0                   6        80   \n",
      "3                     117              12                  17        77   \n",
      "4                     117               0                  17        77   \n",
      "\n",
      "   hourly_precipMM  daily_rainMM  solar_radiation_Watts_m2  \n",
      "0                0             0                         0  \n",
      "1                0             0                         0  \n",
      "2                0             0                         0  \n",
      "3                0             0                         0  \n",
      "4                0             0                         0  \n"
     ]
    }
   ],
   "source": [
    "print(df.head(5))\n"
   ]
  },
  {
   "cell_type": "code",
   "execution_count": 3,
   "metadata": {
    "collapsed": false,
    "pycharm": {
     "name": "#%%\n"
    }
   },
   "outputs": [
    {
     "name": "stdout",
     "output_type": "stream",
     "text": [
      "       hour  temperatureC  dewpointC  pressurehPa  wind_direction_degrees  \\\n",
      "0         0            11          8         1021                     143   \n",
      "1         1            11          8         1021                     130   \n",
      "2         2            11          7         1020                     121   \n",
      "3         3            11          7         1018                     117   \n",
      "4         4            11          7         1018                     117   \n",
      "...     ...           ...        ...          ...                     ...   \n",
      "19396     5            11          1         1028                     130   \n",
      "19397     6            11          0         1029                     136   \n",
      "19398    21            10          5         1030                     317   \n",
      "19399    22             9          5         1030                     136   \n",
      "19400    23             9          5         1030                     130   \n",
      "\n",
      "       wind_speed_KMH  wind_speed_gustKMH  Humidity  hourly_precipMM  \\\n",
      "0                   0                  20        83                0   \n",
      "1                   4                   6        81                0   \n",
      "2                   0                   6        80                0   \n",
      "3                  12                  17        77                0   \n",
      "4                   0                  17        77                0   \n",
      "...               ...                 ...       ...              ...   \n",
      "19396              11                  20        51                0   \n",
      "19397               6                  17        48                0   \n",
      "19398               0                   1        75                0   \n",
      "19399               3                   3        75                0   \n",
      "19400               4                   4        75                0   \n",
      "\n",
      "       daily_rainMM  solar_radiation_Watts_m2  \n",
      "0                 0                         0  \n",
      "1                 0                         0  \n",
      "2                 0                         0  \n",
      "3                 0                         0  \n",
      "4                 0                         0  \n",
      "...             ...                       ...  \n",
      "19396             0                         0  \n",
      "19397             0                         0  \n",
      "19398             0                         0  \n",
      "19399             0                         0  \n",
      "19400             0                         0  \n",
      "\n",
      "[19401 rows x 11 columns]\n"
     ]
    }
   ],
   "source": [
    "print(X)"
   ]
  },
  {
   "cell_type": "code",
   "execution_count": 4,
   "metadata": {
    "collapsed": false,
    "pycharm": {
     "name": "#%%\n"
    }
   },
   "outputs": [
    {
     "name": "stdout",
     "output_type": "stream",
     "text": [
      "0        0\n",
      "1        0\n",
      "2        0\n",
      "3        0\n",
      "4        0\n",
      "        ..\n",
      "19396    0\n",
      "19397    0\n",
      "19398    0\n",
      "19399    0\n",
      "19400    0\n",
      "Name: generated_power, Length: 19401, dtype: int64\n"
     ]
    }
   ],
   "source": [
    "print(y)"
   ]
  },
  {
   "cell_type": "code",
   "execution_count": 13,
   "metadata": {
    "collapsed": false,
    "pycharm": {
     "name": "#%%\n"
    }
   },
   "outputs": [
    {
     "name": "stdout",
     "output_type": "stream",
     "text": [
      "[537]\n"
     ]
    }
   ],
   "source": [
    "from sklearn.ensemble import RandomForestClassifier\n",
    "from sklearn.model_selection import cross_val_score\n",
    "\n",
    "#X = [[0, 0], [1, 1]]\n",
    "#Y = [0, 1]\n",
    "#clf = RandomForestClassifier(n_estimators=10)\n",
    "clf = RandomForestClassifier(n_estimators=10, max_depth=None,min_samples_split=2, random_state=0)\n",
    "clf = clf.fit(X_train, y_train)\n",
    "#scores = cross_val_score(clf, X, y, cv=5)\n",
    "#scores.mean()\n",
    "\n"
   ]
  },
  {
   "cell_type": "code",
   "execution_count": 14,
   "metadata": {},
   "outputs": [
    {
     "name": "stdout",
     "output_type": "stream",
     "text": [
      "[537]\n"
     ]
    }
   ],
   "source": [
    "data = pd.DataFrame([[13,14,13,1014,265,4,12,95,0,14,88]],columns=['hour','temperatureC','dewpointC','pressurehPa','wind_direction_degrees','wind_speed_KMH','wind_speed_gustKMH','Humidity','hourly_precipMM','daily_rainMM','solar_radiation_Watts_m2'])\n",
    "print(clf.predict(data))"
   ]
  },
  {
   "cell_type": "code",
   "execution_count": 6,
   "metadata": {
    "collapsed": false,
    "pycharm": {
     "name": "#%%\n"
    }
   },
   "outputs": [
    {
     "name": "stdout",
     "output_type": "stream",
     "text": [
      "0.45426436485441896\n"
     ]
    }
   ],
   "source": [
    "print(clf.score(X_test,y_test))"
   ]
  },
  {
   "cell_type": "code",
   "execution_count": 11,
   "metadata": {
    "collapsed": false,
    "pycharm": {
     "name": "#%%\n"
    }
   },
   "outputs": [
    {
     "name": "stderr",
     "output_type": "stream",
     "text": [
      "d:\\challenge-2\\RandomTree\\lib\\site-packages\\sklearn\\model_selection\\_split.py:700: UserWarning: The least populated class in y has only 1 members, which is less than n_splits=5.\n",
      "  warnings.warn(\n"
     ]
    },
    {
     "name": "stdout",
     "output_type": "stream",
     "text": [
      "DecisionTreeClassifier: \n",
      "0.4506567686980058\n"
     ]
    },
    {
     "name": "stderr",
     "output_type": "stream",
     "text": [
      "d:\\challenge-2\\RandomTree\\lib\\site-packages\\sklearn\\model_selection\\_split.py:700: UserWarning: The least populated class in y has only 1 members, which is less than n_splits=5.\n",
      "  warnings.warn(\n"
     ]
    },
    {
     "name": "stdout",
     "output_type": "stream",
     "text": [
      "RandomForestClassifier: \n",
      "0.4529756929241465\n"
     ]
    },
    {
     "name": "stderr",
     "output_type": "stream",
     "text": [
      "d:\\challenge-2\\RandomTree\\lib\\site-packages\\sklearn\\model_selection\\_split.py:700: UserWarning: The least populated class in y has only 1 members, which is less than n_splits=5.\n",
      "  warnings.warn(\n"
     ]
    },
    {
     "name": "stdout",
     "output_type": "stream",
     "text": [
      "ExtraTreesClassifier: \n",
      "0.4511722326155316\n"
     ]
    },
    {
     "data": {
      "text/plain": [
       "False"
      ]
     },
     "execution_count": 11,
     "metadata": {},
     "output_type": "execute_result"
    }
   ],
   "source": [
    "#Extremely Randomized Trees\n",
    "from sklearn.model_selection import cross_val_score\n",
    "from sklearn.datasets import make_blobs\n",
    "from sklearn.ensemble import RandomForestClassifier\n",
    "from sklearn.ensemble import ExtraTreesClassifier\n",
    "from sklearn.tree import DecisionTreeClassifier\n",
    "\n",
    "clf = DecisionTreeClassifier(max_depth=None, min_samples_split=2,random_state=0)\n",
    "clf = clf.fit(X_train, y_train)\n",
    "#scores = cross_val_score(clf, X, y, cv=5)\n",
    "scores = cross_val_score(clf, X_test, y_test)\n",
    "scores.mean()\n",
    "print(\"DecisionTreeClassifier: \")\n",
    "print(scores.mean())\n",
    "\n",
    "clf = RandomForestClassifier(n_estimators=10, max_depth=None,min_samples_split=2, random_state=0)\n",
    "clf = clf.fit(X_train, y_train)\n",
    "scores = cross_val_score(clf, X_test, y_test)\n",
    "scores.mean()\n",
    "print(\"RandomForestClassifier: \")\n",
    "print(scores.mean())\n",
    "\n",
    "clf = ExtraTreesClassifier(n_estimators=10, max_depth=None,min_samples_split=2, random_state=0)\n",
    "clf = clf.fit(X_train, y_train)\n",
    "scores = cross_val_score(clf, X_test, y_test)\n",
    "print(\"ExtraTreesClassifier: \")\n",
    "print(scores.mean())\n",
    "scores.mean() > 0.999\n",
    "\n",
    "\n"
   ]
  },
  {
   "cell_type": "code",
   "execution_count": 8,
   "metadata": {
    "collapsed": false,
    "pycharm": {
     "name": "#%%\n"
    }
   },
   "outputs": [
    {
     "data": {
      "text/plain": [
       "85"
      ]
     },
     "execution_count": 8,
     "metadata": {},
     "output_type": "execute_result"
    }
   ],
   "source": [
    "85"
   ]
  }
 ],
 "metadata": {
  "kernelspec": {
   "display_name": "RandomTree",
   "language": "python",
   "name": "python3"
  },
  "language_info": {
   "codemirror_mode": {
    "name": "ipython",
    "version": 3
   },
   "file_extension": ".py",
   "mimetype": "text/x-python",
   "name": "python",
   "nbconvert_exporter": "python",
   "pygments_lexer": "ipython3",
   "version": "3.10.5"
  },
  "vscode": {
   "interpreter": {
    "hash": "f44696788a88cdbce4c037379e5ce062385763c052a9a7f3357e6da242d49266"
   }
  }
 },
 "nbformat": 4,
 "nbformat_minor": 0
}
