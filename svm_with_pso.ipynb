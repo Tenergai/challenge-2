{
 "cells": [
  {
   "attachments": {},
   "cell_type": "markdown",
   "metadata": {},
   "source": [
    "### Import Dataset"
   ]
  },
  {
   "cell_type": "code",
   "execution_count": null,
   "metadata": {},
   "outputs": [],
   "source": [
    "import pandas as pd\n",
    "from sklearn.model_selection import train_test_split\n",
    "\n",
    "df = pd.read_csv('./datasetFinal.csv')\n",
    "\n",
    "y = df['generated_power']\n",
    "X = df.drop(columns='generated_power')\n",
    "\n",
    "x_train, x_test, y_train, y_test = train_test_split(X,y,test_size=0.2)"
   ]
  },
  {
   "attachments": {},
   "cell_type": "markdown",
   "metadata": {},
   "source": [
    "### Training Model \n",
    "#### - SVM Linear Regression "
   ]
  },
  {
   "cell_type": "code",
   "execution_count": null,
   "metadata": {},
   "outputs": [],
   "source": [
    "from sklearn.pipeline import Pipeline\n",
    "from sklearn.preprocessing import StandardScaler\n",
    "from sklearn.svm import LinearSVR\n",
    "\n",
    "svm_linear = Pipeline([\n",
    "    (\"scaler\", StandardScaler()),\n",
    "    (\"linear_svr\", LinearSVR()),\n",
    "])\n",
    "\n",
    "svm_linear.fit(x_train,y_train)\n",
    "\n",
    "print('score', svm_linear.score(x_test,y_test))"
   ]
  },
  {
   "attachments": {},
   "cell_type": "markdown",
   "metadata": {},
   "source": [
    "#### - Polinomial Regression"
   ]
  },
  {
   "cell_type": "code",
   "execution_count": null,
   "metadata": {},
   "outputs": [],
   "source": [
    "from sklearn.pipeline import Pipeline\n",
    "from sklearn.preprocessing import StandardScaler\n",
    "from sklearn.svm import SVR\n",
    "\n",
    "svm_poly = Pipeline([\n",
    "    (\"scaler\", StandardScaler()),\n",
    "    (\"svm_poly_reg\", SVR(kernel=\"poly\", degree=2, C=100, epsilon=0.1)),\n",
    "])\n",
    "\n",
    "svm_poly.fit(x_train,y_train)\n",
    "\n",
    "print('score', svm_poly.score(x_test,y_test))"
   ]
  },
  {
   "attachments": {},
   "cell_type": "markdown",
   "metadata": {},
   "source": [
    "With PSO"
   ]
  },
  {
   "cell_type": "code",
   "execution_count": null,
   "metadata": {},
   "outputs": [],
   "source": [
    "import numpy as np\n",
    "import pyswarms as ps\n",
    "import matplotlib.pyplot as plt\n",
    "\n",
    "from pyswarms.utils.plotters import plot_contour, plot_surface\n",
    "from pyswarms.utils.plotters.formatters import Designer\n",
    "from pyswarms.utils.plotters.formatters import Mesher\n",
    "\n",
    "from pyswarms.utils.functions import single_obj as fx\n",
    "\n",
    "# Set-up all the hyperparameters\n",
    "options = {'c1': 0.5, 'c2': 0.3, 'w':0.9}\n",
    "# Call an instance of PSO\n",
    "optimizer = ps.single.GlobalBestPSO(n_particles=10, dimensions=2, options=options)\n",
    "# Perform the optimization\n",
    "cost, pos = optimizer.optimize(fx.sphere, iters=50)\n",
    "\n",
    "m = Mesher(func=fx.sphere)\n",
    "\n",
    "pos_history_3d = m.compute_history_3d(optimizer.pos_history)\n",
    "# adjust the figure\n",
    "d = Designer(limits=[(-1,1), (-1,1), (-0.1,1)], label=['x-axis', 'y-axis', 'z-axis'])\n",
    "# Make animation\n",
    "animation3d = plot_surface(pos_history=pos_history_3d, mesher=m, designer=d, mark=(0,0,0))\n",
    "\n"
   ]
  }
 ],
 "metadata": {
  "kernelspec": {
   "display_name": "meia",
   "language": "python",
   "name": "python3"
  },
  "language_info": {
   "codemirror_mode": {
    "name": "ipython",
    "version": 3
   },
   "file_extension": ".py",
   "mimetype": "text/x-python",
   "name": "python",
   "nbconvert_exporter": "python",
   "pygments_lexer": "ipython3",
   "version": "3.10.8 (main, Nov  4 2022, 13:48:29) [GCC 11.2.0]"
  },
  "orig_nbformat": 4,
  "vscode": {
   "interpreter": {
    "hash": "c8084ebee4763c519a852e718642eb8deca4b9361be3eba292547691ac892c56"
   }
  }
 },
 "nbformat": 4,
 "nbformat_minor": 2
}
