{
 "cells": [
  {
   "cell_type": "code",
   "execution_count": 37,
   "id": "5f7262c9",
   "metadata": {},
   "outputs": [],
   "source": [
    "import numpy as np\n",
    "import pandas as pd\n",
    "\n",
    "df = pd.read_csv('./datasets/PV_firstRelease.csv')"
   ]
  },
  {
   "cell_type": "code",
   "execution_count": 38,
   "id": "a4d98c10",
   "metadata": {},
   "outputs": [
    {
     "name": "stdout",
     "output_type": "stream",
     "text": [
      "   Hour  Starting minute (inclussive)  Ending minute (exclussive)  \\\n",
      "0     0                             0                           5   \n",
      "1     0                             5                          10   \n",
      "2     0                            10                          15   \n",
      "3     0                            15                          20   \n",
      "4     0                            20                          25   \n",
      "\n",
      "   Generated power  TemperatureC  DewpointC  PressurehPa  \\\n",
      "0                0             0          0            0   \n",
      "1                0             0          0            0   \n",
      "2                0            11          8         1021   \n",
      "3                0            11          8         1021   \n",
      "4                0            11          8         1021   \n",
      "\n",
      "   WindDirectionDegrees  WindSpeedKMH  WindSpeedGustKMH  Humidity  \\\n",
      "0                     0             0                 0         0   \n",
      "1                     0             0                 0         0   \n",
      "2                   114             1                17        83   \n",
      "3                   134            12                17        83   \n",
      "4                   128             8                17        83   \n",
      "\n",
      "   HourlyPrecipMM  dailyrainMM  SolarRadiationWatts_m2  \n",
      "0               0            0                       0  \n",
      "1               0            0                       0  \n",
      "2               0            0                       0  \n",
      "3               0            0                       0  \n",
      "4               0            0                       0  \n"
     ]
    }
   ],
   "source": [
    "print(df.head(5))"
   ]
  },
  {
   "cell_type": "code",
   "execution_count": 39,
   "id": "4fe95bca",
   "metadata": {},
   "outputs": [],
   "source": [
    "drop_index = []\n",
    "def append_index_to_drop(x):\n",
    "    drop_index.append(x)\n",
    "    \n",
    "X = [append_index_to_drop(x) if df['Generated power'].iloc[x] != 0 and df['SolarRadiationWatts_m2'].iloc[x] == 0 else x for x in range(len(df['SolarRadiationWatts_m2']))]\n",
    "\n",
    "df.drop(drop_index, axis=0, inplace=True)"
   ]
  },
  {
   "cell_type": "code",
   "execution_count": 40,
   "id": "ef483a34",
   "metadata": {},
   "outputs": [],
   "source": [
    "def calculate_mean_hour_values(rows):\n",
    "    hour = df['Hour'].iloc[rows[0]]\n",
    "    gen_power= 0\n",
    "    temp= 0\n",
    "    dewpoint= 0\n",
    "    pressure=0\n",
    "    wind_direction= 0\n",
    "    wind_speed= 0\n",
    "    wind_gust= 0\n",
    "    humidity= 0\n",
    "    hourly_precip = 0\n",
    "    daily_rain = 0\n",
    "    solar_radiation = 0\n",
    "    #Generated power,TemperatureC,DewpointC,PressurehPa,WindDirectionDegrees,WindSpeedKMH,WindSpeedGustKMH,Humidity,HourlyPrecipMM,dailyrainMM,SolarRadiationWatts_m2\n",
    "    num = len(rows)\n",
    "    for x in rows:\n",
    "        gen_power += df['Generated power'].iloc[x]\n",
    "        temp += df['TemperatureC'].iloc[x]\n",
    "        dewpoint += df['DewpointC'].iloc[x]\n",
    "        pressure += df['PressurehPa'].iloc[x]\n",
    "        wind_direction += df['WindDirectionDegrees'].iloc[x]\n",
    "        wind_speed += df['WindSpeedKMH'].iloc[x]\n",
    "        wind_gust += df['WindSpeedGustKMH'].iloc[x]\n",
    "        humidity += df['Humidity'].iloc[x]\n",
    "        hourly_precip += df['HourlyPrecipMM'].iloc[x]\n",
    "        daily_rain += df['dailyrainMM'].iloc[x]\n",
    "        solar_radiation += df['SolarRadiationWatts_m2'].iloc[x]\n",
    "\n",
    "    return [hour, gen_power/num, temp/num, dewpoint/num, pressure/num, wind_direction/num, wind_speed/num, wind_gust/num, humidity/num, hourly_precip/num, daily_rain/num, solar_radiation/num]"
   ]
  },
  {
   "cell_type": "code",
   "execution_count": null,
   "id": "2c66d056",
   "metadata": {},
   "outputs": [],
   "source": [
    "matriz = []\n",
    "last_hour = df['Hour'].iloc[0]\n",
    "rows = []\n",
    "for x in range(len(df['SolarRadiationWatts_m2'])):\n",
    "    hour = df['Hour'].iloc[x]\n",
    "    if hour != last_hour:\n",
    "        matriz.append(calculate_mean_hour_values(rows))\n",
    "        rows = []\n",
    "        last_hour = hour\n",
    "    rows.append(x)\n",
    "if rows != []:\n",
    "    matriz.append(calculate_mean_hour_values(rows))\n",
    "\n",
    "df = pd.DataFrame(matriz,columns=[\"Hour\",\"Generated power\",\"TemperatureC\",\"DewpointC\",\"PressurehPa\",\"WindDirectionDegrees\",\"WindSpeedKMH\",\"WindSpeedGustKMH\",\"Humidity\",\"HourlyPrecipMM\",\"dailyrainMM\",\"SolarRadiationWatts_m2\"])\n",
    "\n",
    "df.to_csv(\"./new_csv.csv\")"
   ]
  },
  {
   "cell_type": "code",
   "execution_count": 47,
   "id": "8201d260",
   "metadata": {},
   "outputs": [
    {
     "data": {
      "image/png": "[encoded data removed]",
      "text/plain": [
       "<Figure size 432x288 with 1 Axes>"
      ]
     },
     "metadata": {
      "needs_background": "light"
     },
     "output_type": "display_data"
    }
   ],
   "source": [
    "import matplotlib.pyplot as plt\n",
    "days = 20\n",
    "plt.plot(range(days*24), df['Generated power'][:days*24])\n",
    "\n",
    "plt.show()\n"
   ]
  }
 ],
 "metadata": {
  "kernelspec": {
   "display_name": "Python 3 (ipykernel)",
   "language": "python",
   "name": "python3"
  },
  "language_info": {
   "codemirror_mode": {
    "name": "ipython",
    "version": 3
   },
   "file_extension": ".py",
   "mimetype": "text/x-python",
   "name": "python",
   "nbconvert_exporter": "python",
   "pygments_lexer": "ipython3",
   "version": "3.10.8"
  },
  "vscode": {
   "interpreter": {
    "hash": "c8084ebee4763c519a852e718642eb8deca4b9361be3eba292547691ac892c56"
   }
  }
 },
 "nbformat": 4,
 "nbformat_minor": 5
}
