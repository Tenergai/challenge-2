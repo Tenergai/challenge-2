{
 "cells": [
  {
   "cell_type": "code",
   "execution_count": 1,
   "metadata": {},
   "outputs": [
    {
     "name": "stdout",
     "output_type": "stream",
     "text": [
      "['ac,200,10', 'washing_machine,400,9', 'dryer,100,5', 'roomba,500,7', 'microwave,100,4', 'ev,150,10']\n"
     ]
    }
   ],
   "source": [
    "import numpy as np\n",
    "from geneticalgorithm import geneticalgorithm as ga\n",
    "\n",
    "f=open('devices.txt', 'r')\n",
    "devices = f.readlines()\n",
    "for l in range(0,len(devices)):\n",
    "    devices[l]=devices[l].replace('\\n','')\n",
    "print(devices)\n"
   ]
  },
  {
   "cell_type": "code",
   "execution_count": 2,
   "metadata": {},
   "outputs": [
    {
     "name": "stdout",
     "output_type": "stream",
     "text": [
      "devices ['ac,200,10', 'washing_machine,400,9', 'dryer,100,5', 'roomba,500,7', 'microwave,100,4', 'ev,150,10']\n",
      "ordered ['ac,200,10', 'ev,150,10', 'washing_machine,400,9', 'roomba,500,7', 'dryer,100,5', 'microwave,100,4']\n"
     ]
    }
   ],
   "source": [
    "max_priority=0\n",
    "prior_device=None \n",
    "devices_order_priority=[]\n",
    "aux=devices\n",
    "'''Selecionar o device com maior prioridade'''\n",
    "print('devices', devices)\n",
    "for device in devices:\n",
    "    for entry in aux:\n",
    "        if entry not in devices_order_priority:\n",
    "            data_entry=entry.split(',')\n",
    "            p=int(data_entry[2])\n",
    "            if p>max_priority:        \n",
    "                max_priority=p\n",
    "                prior_device=entry\n",
    "    devices_order_priority.append(prior_device)\n",
    "    max_priority=0\n",
    "    prior_device=None     \n",
    "print('ordered',devices_order_priority)"
   ]
  },
  {
   "cell_type": "code",
   "execution_count": 3,
   "metadata": {},
   "outputs": [],
   "source": [
    "def calculateConsumptionList(l):\n",
    "    totalconsumption=0\n",
    "    for entry in l:\n",
    "        device=entry.split(',')        \n",
    "        totalconsumption+=int(device[1])\n",
    "    return totalconsumption"
   ]
  },
  {
   "cell_type": "code",
   "execution_count": 4,
   "metadata": {},
   "outputs": [],
   "source": [
    "def decimalToBinary(n):\n",
    "    return \"{0:b}\".format(int(n))\n",
    "\n",
    "def binary_to_list(binary):\n",
    "    # Iterate through the list and add a \"1\" to the result string for each \"on\" object\n",
    "    # and a \"0\" for each \"off\" object\n",
    "    lst = []\n",
    "    i = 0\n",
    "    for obj in str(binary):\n",
    "        if obj == \"1\":\n",
    "            lst.append(devices_order_priority[i])\n",
    "        i += 1\n",
    "\n",
    "    # Return the result as an integer\n",
    "    return lst"
   ]
  },
  {
   "cell_type": "code",
   "execution_count": 13,
   "metadata": {},
   "outputs": [
    {
     "name": "stdout",
     "output_type": "stream",
     "text": [
      " The best solution found:                                                                           \n",
      " [500.  51.]\n",
      "\n",
      " Objective function:\n",
      " 12.5\n"
     ]
    },
    {
     "data": {
      "image/png": "[encoded data removed]",
      "text/plain": [
       "<Figure size 640x480 with 1 Axes>"
      ]
     },
     "metadata": {},
     "output_type": "display_data"
    },
    {
     "name": "stdout",
     "output_type": "stream",
     "text": [
      "12.5\n",
      "[500.  51.]\n",
      "['ac,200,10', 'ev,150,10', 'dryer,100,5', 'microwave,100,4']\n"
     ]
    }
   ],
   "source": [
    "\n",
    "def f(X):\n",
    "    binary = decimalToBinary(X[1])\n",
    "    list = binary_to_list(binary)\n",
    "    totalconsumption=calculateConsumptionList(list)\n",
    "    if len(list)!=0:\n",
    "        score = abs(totalconsumption-X[0])/len(list)\n",
    "    else:\n",
    "        score = abs(totalconsumption-X[0])\n",
    "    return score\n",
    "\n",
    "#transform list to binary adding 1 for each device\n",
    "lista_devices_todos_ligados_decimal=[1]*len(devices_order_priority)\n",
    "#transform binary to decimal\n",
    "lista_devices_todos_ligados_decimal=pow(2,len(devices_order_priority))-1\n",
    "varbound=np.array([[500,500], [0,lista_devices_todos_ligados_decimal]])\n",
    "\n",
    "algorithm_param = {'max_num_iteration': 3000,\\\n",
    "                   'population_size':len(devices_order_priority),\\\n",
    "                   'mutation_probability':0.1,\\\n",
    "                   'elit_ratio': 0.01,\\\n",
    "                   'crossover_probability': 0.5,\\\n",
    "                   'parents_portion': 0.3,\\\n",
    "                   'crossover_type':'uniform',\\\n",
    "                   'max_iteration_without_improv':None}\n",
    "\n",
    "model=ga(function=f,\\\n",
    "            dimension=2,\\\n",
    "            variable_type='int',\\\n",
    "            variable_boundaries=varbound,\\\n",
    "            algorithm_parameters=algorithm_param)\n",
    "\n",
    "model.run()\n",
    "print(model.best_function)\n",
    "print(model.best_variable)\n",
    "x=model.best_variable[1]\n",
    "binary=decimalToBinary(x)\n",
    "final=binary_to_list(binary)\n",
    "print(final)"
   ]
  }
 ],
 "metadata": {
  "kernelspec": {
   "display_name": "Python 3",
   "language": "python",
   "name": "python3"
  },
  "language_info": {
   "codemirror_mode": {
    "name": "ipython",
    "version": 3
   },
   "file_extension": ".py",
   "mimetype": "text/x-python",
   "name": "python",
   "nbconvert_exporter": "python",
   "pygments_lexer": "ipython3",
   "version": "3.10.9"
  },
  "orig_nbformat": 4,
  "vscode": {
   "interpreter": {
    "hash": "441e6eca0983899b17bb4710f981b38f450ca3c49b0b8f01a5f9724268c0f52d"
   }
  }
 },
 "nbformat": 4,
 "nbformat_minor": 2
}
